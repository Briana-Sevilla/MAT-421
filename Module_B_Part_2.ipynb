{
  "nbformat": 4,
  "nbformat_minor": 0,
  "metadata": {
    "colab": {
      "provenance": [],
      "authorship_tag": "ABX9TyOS1vt8n4bQARWkjxomLOJD",
      "include_colab_link": true
    },
    "kernelspec": {
      "name": "python3",
      "display_name": "Python 3"
    },
    "language_info": {
      "name": "python"
    }
  },
  "cells": [
    {
      "cell_type": "markdown",
      "metadata": {
        "id": "view-in-github",
        "colab_type": "text"
      },
      "source": [
        "<a href=\"https://colab.research.google.com/github/Briana-Sevilla/MAT-421/blob/main/Module_B_Part_2.ipynb\" target=\"_parent\"><img src=\"https://colab.research.google.com/assets/colab-badge.svg\" alt=\"Open In Colab\"/></a>"
      ]
    },
    {
      "cell_type": "markdown",
      "source": [
        "# **Homework Set 3: Module B**\n"
      ],
      "metadata": {
        "id": "OHWPS44e-mSS"
      }
    },
    {
      "cell_type": "markdown",
      "source": [
        "## Section 17.4: Lagrange Polynomial Interpolation"
      ],
      "metadata": {
        "id": "6ykGF7eq-ojw"
      }
    },
    {
      "cell_type": "markdown",
      "source": [
        "Unlike linear and cubic interpolation, **lagrange polynomial interpolation** computes a single polynomial that goes through all of our data points. In other words, we do not need a linear or cubic segment for each pair of points; lagrange polynomial interpolation uses one polynomial such that $\\ L(x_i)=y_i$ for every point in the data set. A linear combination of **lagrange basis polynomials** can be represented by the following equation:\n",
        "\n",
        "$\\ P_i(x)=\\prod_{j=1, j \\neq i}^n \\frac{x-x_j}{x_i-x_j} $\n",
        "\n",
        "where:\n",
        "- $\\ n$ is the number of data points\n",
        "- $\\ \\prod$ is \"the product of\". For example, $\\ \\prod_{i=1}^3 n=1*2*3 = 3!$\n",
        "- $\\ i,j$ are indexes of the inputed data (x-axis). For instance, if we have the following data set: $\\ x=[1,2,3]$ and $\\ y=[1,5,6]$, then\n",
        "\n",
        " $x_1 = 1$ and $x_2=3$.\n",
        "  - We only have two letters because we want to use 2 different x values at once. Thus, $\\ j \\neq i$.\n",
        "\n",
        "Once we calculate our basis polynomials, we can find the lagrange polynomial using the following equation:\n",
        "\n",
        "$\\ L(x)= \\sum_{i=1}^n y_i \\cdot P_i(x)$\n",
        "\n",
        ">Note:\n",
        "- $\\ L(x)$ is the sum of these polynomials ($\\ P_i(x)$)\n",
        "- If $\\ i=j,$ $\\ P(x)$\n",
        "\n",
        "Lets try to find the lagrange basis polynomials with the data set above:  \n",
        "$\\ x=[1,2,3]$ and $\\ y=[1,5,6]$\n",
        "\n",
        "Equation: $\\ P_i(x)=\\prod_{j=1, j \\neq i}^n \\frac{x-x_j}{x_i-x_j}$\n",
        "\n",
        "So, $n=3, i=1,$ and $\\ j$ starts with 2 since $\\ j \\neq i$\n",
        "\n",
        "$\\ P_1(x)= \\frac{(x-x_2)(x-x_3)}{(x_1-x_2)(x_1-x_3)} = \\frac{(x-2)(x-3)}{(1-2)(1-3)} = \\frac{(x-2)(x-3)}{(-1)(-2)} = \\frac{1}{2}(x^2-5x+6)$\n",
        "\n",
        "You continue doing this for $\\ P_2(x)$ and $\\ P_3(x)$. All you change is the $j$ index!\n",
        "\n",
        "$\\ P_2(x)= \\frac{(x-x_1)(x-x_3)}{(x_2-x_1)(x_2-x_3)} = \\frac{(x-1)(x-3)}{(2-1)(2-3)} = \\frac{(x-1)(x-3)}{(1)(-1)} = -1(x^2-4x+3)$\n",
        "\n",
        "$\\ P_3(x)= \\frac{(x-x_1)(x-x_2)}{(x_3-x_1)(x_3-x_2)} = \\frac{(x-1)(x-2)}{(3-1)(3-2)} = \\frac{(x-1)(x-2)}{(2)(1)} = \\frac{1}{2}(x^2-3x+2)$\n",
        "\n",
        "Lets plot the lagrange polynomial and see if it goes through all of the points!\n",
        "\n"
      ],
      "metadata": {
        "id": "_PTNodXz_HhT"
      }
    },
    {
      "cell_type": "code",
      "source": [
        "import numpy as np\n",
        "import numpy.polynomial.polynomial as poly\n",
        "import matplotlib.pyplot as plt"
      ],
      "metadata": {
        "id": "O08lJGAfVVuQ"
      },
      "execution_count": null,
      "outputs": []
    },
    {
      "cell_type": "code",
      "source": [
        "\n",
        "x = [1, 2, 3]\n",
        "y = [1, 5, 6]\n",
        "\n",
        "# coefficients of the lagrange basis polynomials (format for ax^2 + bx + c : [c,b,a])\n",
        "P1_coeff = [3,-2.5,0.5]\n",
        "P2_coeff = [-3,4,-1]\n",
        "P3_coeff = [1,-1.5,0.5]\n",
        "\n",
        "# get the polynomial function\n",
        "P1 = poly.Polynomial(P1_coeff)\n",
        "P2 = poly.Polynomial(P2_coeff)\n",
        "P3 = poly.Polynomial(P3_coeff)\n",
        "\n",
        "x_new = np.arange(0.5,4.5,0.1)\n",
        "\n",
        "# plot the lagrange polynomial, the coefficients correspond to the y data set [1,5,6]\n",
        "L = 1*P1 + 5*P2 + 6*P3\n",
        "\n",
        "fig = plt.figure(figsize = (6,4))\n",
        "plt.plot(x_new, L(x_new), 'b')\n",
        "plt.plot(x, y,'ro')\n",
        "plt.title('Lagrange Polynomial')\n",
        "plt.grid()\n",
        "plt.xlabel('x')\n",
        "plt.ylabel('y')\n",
        "plt.show()"
      ],
      "metadata": {
        "colab": {
          "base_uri": "https://localhost:8080/",
          "height": 410
        },
        "id": "PHJ6BvBEJ7Nn",
        "outputId": "7b89b760-b946-47f8-d368-0d59df01c2e9"
      },
      "execution_count": null,
      "outputs": [
        {
          "output_type": "display_data",
          "data": {
            "text/plain": [
              "<Figure size 600x400 with 1 Axes>"
            ],
            "image/png": "[encoded data removed]"
          },
          "metadata": {}
        }
      ]
    },
    {
      "cell_type": "markdown",
      "source": [
        "As you can see, the lagrange polynomial *does* go through all of our data points: (1,1), (2,5), (3,6)!"
      ],
      "metadata": {
        "id": "ceLoTU8NYwrg"
      }
    },
    {
      "cell_type": "markdown",
      "source": [
        "\n",
        "\n",
        "\\\\\n",
        "\n",
        "---\n",
        "\n",
        "\\\\\n",
        "\n",
        "## Section 17.5: Newton’s Polynomial Interpolation"
      ],
      "metadata": {
        "id": "oMglA4n5-s5Q"
      }
    },
    {
      "cell_type": "markdown",
      "source": [
        "Another way to have one polynomial go through all of the set of data points is by using **Newton's polynomial interpolation**. This type of interpolation can be represented by the following expression for a $\\ n-1$ order Newton's polynomial:\n",
        "\n",
        "$\\ f(x)=a_0 + a_1(x-x_0) + a_2(x-x_0)(x-x_1) + ... + a_n(x-x_0)(x-x_1)...(x-x_n)$\n",
        "\n",
        "$\\ = ∑_{i=0}^n a_in_i(x)$\n",
        "\n",
        "where:\n",
        "- $\\ n$ is the number of data points in our set\n",
        "- $\\ n_i(x)=∏_{j=0}^{i-1}(x-x_j)$\n",
        "- $\\ a$ is a coefficient that can be found calculating the divided differences.\n",
        "\n",
        "Since Newton's polynomial goes through every data point, $\\ f(x_i)=y_i$. So, if\n",
        "\n",
        "$\\ f(x_0)=a_0=y_0$, and\n",
        "\n",
        "$\\ f(x_1)=a_0 + a_1(x_1-x_0)=y_1$, then\n",
        "\n",
        "$\\ a_1 = \\frac{y_1-y_0}{x_1-x_0}$ and\n",
        "\n",
        "$\\ a_2= \\frac{ \\frac{y_2-y_1}{x_2-x_1} - \\frac{y_1-y_0}{x_1-x_0} }{x_2-x_0}$\n",
        "\n",
        "and so on until we have repeated this process a total of $\\ n$ times (this is called divided differences). In addition, if we make\n",
        "\n",
        "$\\ a_1=f[x_1,x_0]= \\frac{y_1-y_0}{x_1-x_0}$, then\n",
        "\n",
        "$\\ a_2=f[x_2,x_1,x_0]= \\frac{ \\frac{y_2-y_1}{x_2-x_1} - \\frac{y_1-y_0}{x_1-x_0}}{x_2-x_0} = \\frac{f[x_2,x_1]-f[x_1,x_0]}{x_2-x_0}$\n",
        "\n",
        "In short,\n",
        "\n",
        "$\\ f[x_k,x_{k-1},..,x_1,x_0]= \\frac{f[x_k,x_{k-1},...,x_2,x_1]-f[x_{k-1}x_{k-2},...,x_1,x_0]}{x_k-x_0}$\n",
        "\n",
        "The coefficients calculated above can be written in the form of a diagonal matrix. Below is an example using 5 data points:\n",
        "\n",
        "\\\n",
        "\\begin{matrix}\n",
        "y_0 & f[x_1,x_0] & f[x_2,x_1,x_0] & f[x_3,x_2,x_1,x_0] & f[x_4,x_3,x_2,x_1,x_0] \\\\\n",
        "y_1 & f[x_2,x_1] & f[x_3,x_2,x_1] & f[x_4,x_3,x_2,x_1] & 0 \\\\\n",
        "y_2 & f[x_3,x_2] & f[x_4,x_3,x_2] & 0 & 0 \\\\\n",
        "y_3 & f[x_4,x_3] & 0 & 0 & 0 \\\\\n",
        "y_4 & 0 & 0 & 0 & 0 \\\\\n",
        "\\end{matrix}\n",
        "\n",
        "\\\n",
        "\n",
        "Lets now try to calculate the divided differences table for the following data set:\n",
        "$\\ x=[-2,-1,0,1],$ $\\ y=[7,0,4,9]$\n",
        "\n"
      ],
      "metadata": {
        "id": "MhYsnp1uJ-4D"
      }
    },
    {
      "cell_type": "code",
      "source": [
        "import numpy as np\n",
        "import matplotlib.pyplot as plt\n",
        "\n",
        "%matplotlib inline\n",
        "\n",
        "def divided_diff(x, y):\n",
        "\n",
        "    # function to calculate the divided differences table\n",
        "\n",
        "    n=len(y)\n",
        "    coef = np.zeros([n,n])\n",
        "    # y is the first column. Note: [rows,columns]\n",
        "    coef[:,0] = y\n",
        "    for j in range(1,n):\n",
        "        for i in range(n-j):\n",
        "          coef[i][j] = \\\n",
        "         (coef[i+1][j-1] - coef[i][j-1]) / (x[i+j]-x[i])\n",
        "    return coef\n",
        "\n",
        "def newton_poly(coef, x_data, x):\n",
        "\n",
        "   # Evaluate the newton polynomial at x\n",
        "   n = len(x_data) - 1\n",
        "   p = coef[n]\n",
        "   for k in range(1,n+1):\n",
        "       p = coef[n-k] + (x -x_data[n-k])*p\n",
        "   return p\n"
      ],
      "metadata": {
        "id": "qco8jWNtTlxc"
      },
      "execution_count": null,
      "outputs": []
    },
    {
      "cell_type": "code",
      "source": [
        "# Insert data set\n",
        "x = np.array([-2,-1,0,1])\n",
        "y = np.array([7,0,4,9])\n",
        "# Compute the divided difference coefficients\n",
        "dd_coef = divided_diff(x,y)[0,:]\n",
        "\n",
        "# Evaluate on our data set\n",
        "x_new = np.arange(-2.5,1.5,0.1)\n",
        "y_new = newton_poly(dd_coef,x,x_new)\n",
        "\n",
        "# Plot the Newton polynomial\n",
        "plt.figure(figsize = (6,4))\n",
        "plt.plot(x,y,'ro')\n",
        "plt.plot(x_new,y_new, 'b')\n",
        "plt.xlabel('x')\n",
        "plt.ylabel('y')\n",
        "plt.show()"
      ],
      "metadata": {
        "colab": {
          "base_uri": "https://localhost:8080/",
          "height": 388
        },
        "id": "MuZqrMGztVMS",
        "outputId": "9f4d9177-f90b-4598-c5e3-ee274d07b39b"
      },
      "execution_count": null,
      "outputs": [
        {
          "output_type": "display_data",
          "data": {
            "text/plain": [
              "<Figure size 600x400 with 1 Axes>"
            ],
            "image/png": "[encoded data removed]"
          },
          "metadata": {}
        }
      ]
    },
    {
      "cell_type": "markdown",
      "source": [
        "Just like the previous interpolation method, Newton's polynomial goes through all of the points of the data set!"
      ],
      "metadata": {
        "id": "d_mDgHrbuOLt"
      }
    },
    {
      "cell_type": "markdown",
      "source": [
        "\\\\\n",
        "\n",
        "**The End**"
      ],
      "metadata": {
        "id": "2c06Yl_b-_ZC"
      }
    }
  ]
}