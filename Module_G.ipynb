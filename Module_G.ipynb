{
  "nbformat": 4,
  "nbformat_minor": 0,
  "metadata": {
    "colab": {
      "provenance": [],
      "authorship_tag": "ABX9TyOZVBWc61TAoZGxyxwRVo+r",
      "include_colab_link": true
    },
    "kernelspec": {
      "name": "python3",
      "display_name": "Python 3"
    },
    "language_info": {
      "name": "python"
    }
  },
  "cells": [
    {
      "cell_type": "markdown",
      "metadata": {
        "id": "view-in-github",
        "colab_type": "text"
      },
      "source": [
        "<a href=\"https://colab.research.google.com/github/Briana-Sevilla/MAT-421/blob/main/Module_G.ipynb\" target=\"_parent\"><img src=\"https://colab.research.google.com/assets/colab-badge.svg\" alt=\"Open In Colab\"/></a>"
      ]
    },
    {
      "cell_type": "markdown",
      "source": [
        "# **Homework Set 8: Module G**"
      ],
      "metadata": {
        "id": "QLfV0-AdBhsZ"
      }
    },
    {
      "cell_type": "markdown",
      "source": [
        "## Section 21.1: Numerical Integration Problem Statement"
      ],
      "metadata": {
        "id": "u-D8g5RZCBtz"
      }
    },
    {
      "cell_type": "markdown",
      "source": [
        "The integral $\\int_a^b f(x)dx$ estimates the area under the function $f(x)$ between the interval $[a,b]$."
      ],
      "metadata": {
        "id": "t9g2_7eRFJ9j"
      }
    },
    {
      "cell_type": "markdown",
      "source": [
        "\\\\\n",
        "\n",
        "---\n",
        "\n",
        "\\\\\n",
        "## Section 21.2: Riemanns Integral"
      ],
      "metadata": {
        "id": "N_RnpLZlCCE5"
      }
    },
    {
      "cell_type": "markdown",
      "source": [
        "**Riemanns Integral:** approximates intergrals by summing the area of rectangles of each subinterval.\n",
        "\n",
        "Area of rectangle = width $\\times$ height\n",
        "\n",
        "Area of rectangle $= (x_{i+1}-x_i) \\times (f(x))$\n",
        "\n",
        "Adding the area of all pf the rectangles between interval $[a,b]$ gives us an approximation of the area under $f(x)$.\n",
        "\n",
        "The smaller the width of the rectangles, the more we have. Hence, the accuracy of our approximation increases.\n",
        "\n",
        "Left Riemann Sum:\n",
        "$\\sum_{i=0}^{n-1}hf(x_i)$\n",
        "\n",
        "Right Riemann Sum:\n",
        "$\\sum_{i=1}^{n}hf(x_i)$\n",
        "\n",
        "Midpoint Rule:\n",
        "$\\sum_{i=0}^{n-1}hf(y_i)$, where $y_i=\\frac{x_{i+1}+x_i}{2}$\n",
        "\n",
        "\\\\\n",
        "\n",
        "\\\\\n",
        "\n",
        "Lets use all of these techniques to estimate the area under the following integral with 10 evenly spaced subintervals over $[0,2]$:\n",
        "\n",
        "$\\int_0^2(2x+1)dx$\n",
        "\n",
        "Knowing the answer is 6, lets also compare the approximation of each sum to 6.\n"
      ],
      "metadata": {
        "id": "KX5IItUFIxEW"
      }
    },
    {
      "cell_type": "code",
      "source": [
        "import numpy as np\n",
        "# Define lower and upper bound of integral\n",
        "a = 0\n",
        "b = 2\n",
        "\n",
        "# Number of grid points (# subintervals = n-1)\n",
        "n = 9\n",
        "\n",
        "# Width of each subintervals\n",
        "w = (b - a) / (n - 1)\n",
        "\n",
        "# Creates n subintervals from a to b\n",
        "x = np.linspace(a,b,n)\n",
        "\n",
        "# Function of integration\n",
        "f = 2*x + 1\n",
        "\n",
        "# Calculate sums\n",
        "I_Left = w * sum(f[:n-1])\n",
        "I_Right = w * sum(f[1::])\n",
        "I_Mid = w * sum(2*((x[:n-1]\n",
        "                       + x[1:])/2) + 1)\n",
        "\n",
        "# Calculate error of each\n",
        "error_Left = 6 - I_Left\n",
        "error_Right = 6 - I_Right\n",
        "error_Mid = 6 - I_Mid\n",
        "\n",
        "print(\"Left Riemann Integral: \", I_Left)\n",
        "print(\"Error for Left: \", error_Left)\n",
        "print(\"Right Riemann Integral: \", I_Right)\n",
        "print(\"Error for Right: \", error_Right)\n",
        "print(\"Midpoint Riemann Integral: \", I_Mid)\n",
        "print(\"Error for Mid: \", error_Mid)\n"
      ],
      "metadata": {
        "colab": {
          "base_uri": "https://localhost:8080/"
        },
        "id": "xkzjcmJHC0F1",
        "outputId": "8707f7d8-381d-4387-ef3e-53e9b42a0b8b"
      },
      "execution_count": 13,
      "outputs": [
        {
          "output_type": "stream",
          "name": "stdout",
          "text": [
            "Left Riemann Integral:  5.5\n",
            "Error for Left:  0.5\n",
            "Right Riemann Integral:  6.5\n",
            "Error for Right:  -0.5\n",
            "Midpoint Riemann Integral:  6.0\n",
            "Error for Mid:  0.0\n"
          ]
        }
      ]
    },
    {
      "cell_type": "markdown",
      "source": [
        "As you can see, the approximations are very close, and the approximation from the  midpoint rule is exact!"
      ],
      "metadata": {
        "id": "Smw7IvaCkEYy"
      }
    },
    {
      "cell_type": "markdown",
      "source": [
        "\\\\\n",
        "\n",
        "---\n",
        "\n",
        "\\\\\n",
        "## Section 21.3: Trapezoid Rule"
      ],
      "metadata": {
        "id": "_oOdXFI9CEE3"
      }
    },
    {
      "cell_type": "markdown",
      "source": [
        "**Trapezoid Rule:** approximates intervals by fitting a trapezoid into each subinterval and adding the area of each.\n",
        "\n",
        "Trapezoid Rule: $\\sum_{i=0}^{n-1} h \\frac{f(x_i)+f(x_{i+1})}{2}$\n",
        "\n",
        "Lets use this rule to approximate the same function above with the same conditions!"
      ],
      "metadata": {
        "id": "wtEPNpcAkPgZ"
      }
    },
    {
      "cell_type": "code",
      "source": [
        "import numpy as np\n",
        "# Define lower and upper bound of integral\n",
        "a = 0\n",
        "b = 2\n",
        "\n",
        "# Number of grid points (# subintervals = n-1)\n",
        "n = 9\n",
        "\n",
        "# Width of each subintervals\n",
        "w = (b - a) / (n - 1)\n",
        "\n",
        "# Creates n subintervals from a to b\n",
        "x = np.linspace(a,b,n)\n",
        "\n",
        "# Function of integration\n",
        "f = 2*x + 1\n",
        "\n",
        "# Calculate sums\n",
        "I_Trap = w * sum(0.5*(f[:n-1] + f[1:]))\n",
        "\n",
        "# Calculate error of each\n",
        "error_Trap = 6 - I_Trap\n",
        "\n",
        "print(\"Trapezoid Rule: \", I_Trap)\n",
        "print(\"Error for Trapezoid: \", error_Trap)\n"
      ],
      "metadata": {
        "colab": {
          "base_uri": "https://localhost:8080/"
        },
        "id": "mpmCmQAZB_7V",
        "outputId": "1b0aeeac-335e-4e06-dd0b-e88d09a852e1"
      },
      "execution_count": 14,
      "outputs": [
        {
          "output_type": "stream",
          "name": "stdout",
          "text": [
            "Trapezoid Rule:  6.0\n",
            "Error for Trapezoid:  0.0\n"
          ]
        }
      ]
    },
    {
      "cell_type": "markdown",
      "source": [
        "As you can see, the trapezoid rule gives us an exact approximation. This can be expected from the midpoint and trapezoid rule since our function is linear."
      ],
      "metadata": {
        "id": "6CUGPD1znsxc"
      }
    },
    {
      "cell_type": "markdown",
      "source": [
        "\\\\\n",
        "\n",
        "$\\heartsuit End \\heartsuit$"
      ],
      "metadata": {
        "id": "7juJvotVC07m"
      }
    }
  ]
}