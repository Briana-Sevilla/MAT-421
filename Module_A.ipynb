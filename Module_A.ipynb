{
  "nbformat": 4,
  "nbformat_minor": 0,
  "metadata": {
    "colab": {
      "provenance": [],
      "authorship_tag": "ABX9TyNTpBrqEKV4Vb+d0plh0S0I",
      "include_colab_link": true
    },
    "kernelspec": {
      "name": "python3",
      "display_name": "Python 3"
    },
    "language_info": {
      "name": "python"
    }
  },
  "cells": [
    {
      "cell_type": "markdown",
      "metadata": {
        "id": "view-in-github",
        "colab_type": "text"
      },
      "source": [
        "<a href=\"https://colab.research.google.com/github/Briana-Sevilla/MAT-421/blob/main/Module_A.ipynb\" target=\"_parent\"><img src=\"https://colab.research.google.com/assets/colab-badge.svg\" alt=\"Open In Colab\"/></a>"
      ]
    },
    {
      "cell_type": "markdown",
      "source": [
        "# **Homework Set: Module A**"
      ],
      "metadata": {
        "id": "matBP02V0LTa"
      }
    },
    {
      "cell_type": "markdown",
      "source": [
        "***"
      ],
      "metadata": {
        "id": "q8IoObqFdxAC"
      }
    },
    {
      "cell_type": "markdown",
      "source": [
        "## Section 9.1: Base-N and Binary"
      ],
      "metadata": {
        "id": "M02AUYHx0b1K"
      }
    },
    {
      "cell_type": "markdown",
      "source": [
        "We have used a base-N number system for as long as we can remember. The system we are most familiar with is the base-10 number system. Here, we have 10 digits (0 to 9), each being the coefficent of a power of 10. This is best seen when we expand our number in base 10. For example,\n",
        "\n",
        "\n",
        "*   $\\ 139=1 \\cdot 10^2 + 3\\cdot 10^1 + 9\\cdot 10^0$\n",
        "*   $\\ 57=5 \\cdot 10^1 + 7 \\cdot 10^0$\n",
        "\n",
        "Check:\n",
        "\n",
        "\n",
        "\n",
        "\n",
        "\n",
        "\n",
        "\n"
      ],
      "metadata": {
        "id": "f_Ycbn6414Uq"
      }
    },
    {
      "cell_type": "code",
      "source": [
        "139 == (1*10**2) + (3*10**1) + (9*10**0)"
      ],
      "metadata": {
        "colab": {
          "base_uri": "https://localhost:8080/"
        },
        "id": "QD8VG6G0TRK8",
        "outputId": "014641a6-0304-42a8-c6fe-eae77f7f1452"
      },
      "execution_count": 41,
      "outputs": [
        {
          "output_type": "execute_result",
          "data": {
            "text/plain": [
              "True"
            ]
          },
          "metadata": {},
          "execution_count": 41
        }
      ]
    },
    {
      "cell_type": "code",
      "source": [
        "57 == (5*10**1) + (7*10**0)"
      ],
      "metadata": {
        "colab": {
          "base_uri": "https://localhost:8080/"
        },
        "id": "gNjPW5PI5vsy",
        "outputId": "2dec5c5e-09ee-4293-94dd-691ee10b7302"
      },
      "execution_count": 42,
      "outputs": [
        {
          "output_type": "execute_result",
          "data": {
            "text/plain": [
              "True"
            ]
          },
          "metadata": {},
          "execution_count": 42
        }
      ]
    },
    {
      "cell_type": "markdown",
      "source": [
        ">Notice:\n",
        "- An exponent of 0 corresponds to the ones place\n",
        "- An exponent of 1 corresponds to the tens place\n",
        "- An exponent of 2 corresponds to the hundreds place\n",
        "\n",
        "and so on. Following this logic, a -1 exponent corresponds to the tenths place and so on.\n",
        "\n",
        "\n",
        "Just like the base-10 system, we have other number systems that work the same way. For instance, a base-5 number system has coefficients 0 to 4 (a total of 5 digits). The decomposition of numbers in this system is the same, exccept that instead of having a base of 10, we have a base of 5.\n",
        "\n",
        "$\\ 246(base-5)=2 \\cdot 5^2 + 4\\cdot 5^1 + 6\\cdot 5^0$"
      ],
      "metadata": {
        "id": "vPtPnNqIUn6q"
      }
    },
    {
      "cell_type": "markdown",
      "source": [
        "Just like in the example above, the digits of the number we are decomposing are the coefficients of each term.\n",
        "\n",
        "Another thing we can do is convert our numbers from one base system to another. To demonstrate, lets convert 182 from the base-5 system to base-10:\n",
        "\n",
        "\n",
        "1.   First lets decompose our number\n",
        "\n",
        " $\\ 182(base-5) = 1 \\cdot 5^2 + 8 \\cdot 5^1 + 2 \\cdot 5^0$\n",
        "\n",
        "2.   Simplify\n",
        "\n",
        "  $\\ 182(base-5) = 25 + 40 + 2$\n",
        "\n",
        "3. Add each term, our answer is the sum\n",
        "\n",
        "  $\\ 182(base-5) = 67(base-10)$\n",
        "\n",
        "Check:\n",
        "\n",
        "\n"
      ],
      "metadata": {
        "id": "tvVF_R1MU3WC"
      }
    },
    {
      "cell_type": "code",
      "source": [
        "(1*5**2) + (8*5**1) + (2*5**0) == (6*10**1) + (7*10**0)"
      ],
      "metadata": {
        "colab": {
          "base_uri": "https://localhost:8080/"
        },
        "id": "Gm2NxhqAVByw",
        "outputId": "b92cbc7d-ac16-4970-845f-ea7738e364ae"
      },
      "execution_count": 43,
      "outputs": [
        {
          "output_type": "execute_result",
          "data": {
            "text/plain": [
              "True"
            ]
          },
          "metadata": {},
          "execution_count": 43
        }
      ]
    },
    {
      "cell_type": "markdown",
      "source": [
        "Working backwards should give you the same thing. Note, it is important to consider your base before decomposing your number. For example, if we want to convert 67(base-10) back to base-5, you cannot split 67 in any way you like. Its decomposition must satisfy the following:\n",
        "\n",
        "$\\ 67(base-10) = ? \\cdot 5^2 + ? \\cdot 5^1 + ? \\cdot 5^0$\n",
        "\n",
        "the greatest exponent depends on the greatest power of 5 that is less than 67. In this case, our greatest exponent is 2 because $\\ 5 \\cdot 5=25$  but$\\ 5 \\cdot 5 \\cdot 5=125$ (too large).\n",
        "\n",
        "\n",
        "\\\\\n",
        "\n",
        "\\\\\n",
        "\n",
        "\n",
        "Similarly, we have a binary system as well (base-2). This is especially important for computers since they only use digits 0 and 1. Just like before, we can convert numbers from one system to binary.\n",
        "\n",
        "$\\ 38(base-10)=32+4+2=1 \\cdot 2^5 + 0 \\cdot 2^4 + 0 \\cdot 2^3 + 1 \\cdot 2^2 + 1 \\cdot 2^1 + 0 \\cdot 2^0 =100110(base-2) $\n",
        "\n",
        "Check:"
      ],
      "metadata": {
        "id": "orAtZPlfVDLP"
      }
    },
    {
      "cell_type": "code",
      "source": [
        "38 == (1*2**5) +(0*2**4)+(0*2**3)+(1*2**2) + (1*2**1) + (0*2**0)"
      ],
      "metadata": {
        "colab": {
          "base_uri": "https://localhost:8080/"
        },
        "id": "UQub-kYfVDx0",
        "outputId": "6e8399ac-3911-4c72-cd5a-abb226250e2d"
      },
      "execution_count": 44,
      "outputs": [
        {
          "output_type": "execute_result",
          "data": {
            "text/plain": [
              "True"
            ]
          },
          "metadata": {},
          "execution_count": 44
        }
      ]
    },
    {
      "cell_type": "markdown",
      "source": [
        "Just like any number, we can also add and multiply binary numbers!\n",
        "\n",
        ">Note:\n",
        "- $\\ 0(base-2) + 0(base-2)=0(base-2)$\n",
        "- $\\ 0(base-2) + 1(base-2)=1(base-2)$\n",
        "- $\\ 1(base-2) + 1(base-2)=10(base-2)$ (you carry the one over)\n",
        "\n",
        "Knowing this, you can add larger numbers. For example,\n",
        " $\\ 101(base-2) + 100(base-2)=1001(base-2)=1 \\cdot 2^3 + 0 \\cdot 2^2 + 0 \\cdot 2^1 + 1 \\cdot 2^0=8+0+0+1=9(base-10)$\n",
        "\n",
        " Check: (Know that 5(base-10) = 101(base-2) and 4(base-10) = 100(base-2))\n",
        ""
      ],
      "metadata": {
        "id": "-vBLEZLjVEoO"
      }
    },
    {
      "cell_type": "code",
      "source": [
        "5 + 4 == 9 == 8 + 1 == (1*2**3) + (0*2**2) + (0*2**1) + (1*2**0)"
      ],
      "metadata": {
        "colab": {
          "base_uri": "https://localhost:8080/"
        },
        "id": "euRjAj_eVSGQ",
        "outputId": "205ae482-b77c-4d28-f3e3-a00d97f563b3"
      },
      "execution_count": 45,
      "outputs": [
        {
          "output_type": "execute_result",
          "data": {
            "text/plain": [
              "True"
            ]
          },
          "metadata": {},
          "execution_count": 45
        }
      ]
    },
    {
      "cell_type": "markdown",
      "source": [
        "For multiplication, we just have to multiply the same way we've always have!\n",
        "\n",
        ">Note:\n",
        "- $\\ 0(base-2) \\cdot 0(base-2)=0(base-2)$\n",
        "- $\\ 0(base-2) \\cdot 1(base-2)=0(base-2)$\n",
        "- $\\ 1(base-2) \\cdot 1(base-2)=1(base-2)$\n",
        "\n",
        "Knowing this, you can multiply larger numbers. For example\n",
        "$\\ 101(base-2) \\cdot 100(base-2)=10100(base-2)=1 \\cdot 2^4 + 0 \\cdot 2^3 + 1 \\cdot 2^2 + 0 \\cdot 2^1 + 0 \\cdot 2^0=16+0+4+0+0=20(base-10)$"
      ],
      "metadata": {
        "id": "KsX6DqohVSr2"
      }
    },
    {
      "cell_type": "code",
      "source": [
        "5*4 == 20 == (1*2**4) + (0*2**3) + (1*2**2) + (0*2**1) + (0*2**0)"
      ],
      "metadata": {
        "colab": {
          "base_uri": "https://localhost:8080/"
        },
        "id": "-X6KJ-uYVVaw",
        "outputId": "b465f83e-9812-4a03-a9f4-a131902e0dff"
      },
      "execution_count": 46,
      "outputs": [
        {
          "output_type": "execute_result",
          "data": {
            "text/plain": [
              "True"
            ]
          },
          "metadata": {},
          "execution_count": 46
        }
      ]
    },
    {
      "cell_type": "markdown",
      "source": [
        "\\\\\n",
        "***\n",
        "\\\\\n",
        "## Section 9.2: Floating Point Numbers"
      ],
      "metadata": {
        "id": "ritrr8hDSnin"
      }
    },
    {
      "cell_type": "markdown",
      "source": [
        "Since we have a limitted number of bits in a computer, using floats give us a larger range of numbers to work with while using the same number of bits as in binary representation. We can find more information about floats by using the sys package.\n"
      ],
      "metadata": {
        "id": "A3kUk7nFUcCp"
      }
    },
    {
      "cell_type": "code",
      "source": [
        "import sys\n",
        "sys.float_info"
      ],
      "metadata": {
        "colab": {
          "base_uri": "https://localhost:8080/"
        },
        "id": "TS6O8LnNq6RS",
        "outputId": "1e6d47b0-7633-42b4-ce2c-11b586916dae"
      },
      "execution_count": 47,
      "outputs": [
        {
          "output_type": "execute_result",
          "data": {
            "text/plain": [
              "sys.float_info(max=1.7976931348623157e+308, max_exp=1024, max_10_exp=308, min=2.2250738585072014e-308, min_exp=-1021, min_10_exp=-307, dig=15, mant_dig=53, epsilon=2.220446049250313e-16, radix=2, rounds=1)"
            ]
          },
          "metadata": {},
          "execution_count": 47
        }
      ]
    },
    {
      "cell_type": "markdown",
      "source": [
        "Floats can be represented with the following equation:\n",
        "\n",
        "For 64-bit (IEEE754 standard): $\\ n=(-1)^s \\cdot 2^{e-1023} \\cdot (1+f)$\n",
        "\n",
        "Where\n",
        "- s: sign indicator\n",
        "  - tells us if a number is negative or positive\n",
        "    - Positive: s=0\n",
        "    - Negative: s=1\n",
        "  -1 bit is allocated here\n",
        "- e: exponent\n",
        " - 11 bits are allocated here\n",
        "- f: fraction\n",
        "  - coefficient of the exponent\n",
        "  -A number between 1 and 2\n",
        "  -52 bits are allocated here\n",
        "\n",
        "\n",
        "Just like before, we can convert from IEEE754 to another system. Lets convert 0100000000011000000000000000000000000000000000000000000000000000(IEEE754) to base-10:\n",
        "\n",
        "  > Note:\n",
        "\n",
        "  >| Sign | Exponent | Fraction |\n",
        "  |------|:---------|-----------|\n",
        "  | 0    |10000000001|1000000000000000000000000000000000000000000000000000|\n",
        "\n",
        "  So, the first digit tells us our number is positive. Lets analyze the next 11 digits.\n",
        "\n",
        "  $\\ 10000000001(base-2) = 1 \\cdot 2^{10} + 1\\cdot 2^0 = 1024+1=1025$\n",
        "\n",
        "  $\\ Exponent = 1025-1023 = 2 $\n",
        "\n",
        "  Now lets analyze the fraction part. The fraction is\n",
        "\n",
        "  $\\ 1 \\cdot \\frac{1}{2^1} + 0 \\cdot \\frac{1}{2^2} + ...=0.5$\n",
        "\n",
        "  Using the equation above, we get\n",
        "\n",
        "  $\\ n=(-1)^0 \\cdot 2^2 \\cdot (1+0.5) = 4*1.5=6(base-10)$\n",
        "\n",
        "  Check:"
      ],
      "metadata": {
        "id": "IwilF4RNq6su"
      }
    },
    {
      "cell_type": "code",
      "source": [
        "6 == (-1)**0 * (2**((1*2**10 + 1*2**0) - 1023)) * (1 + 1*2**-1)"
      ],
      "metadata": {
        "colab": {
          "base_uri": "https://localhost:8080/"
        },
        "id": "BBx1Hk4bXfui",
        "outputId": "1d002ef3-be66-4105-ced1-ef4c7ea1fded"
      },
      "execution_count": 48,
      "outputs": [
        {
          "output_type": "execute_result",
          "data": {
            "text/plain": [
              "True"
            ]
          },
          "metadata": {},
          "execution_count": 48
        }
      ]
    },
    {
      "cell_type": "markdown",
      "source": [
        "The next smallest number is\n",
        "$\\ 0 10000000001 0111111111111111111111111111111111111111111111111111 \\approx 5.9999995$\n",
        "\n",
        "and the next biggest number is\n",
        "$\\ 0100000000011000000000000000000000000000000000000000000000000001 \\approx 6.0000005$\n",
        "\n",
        "Thus, 0100000000011000000000000000000000000000000000000000000000000000 represents any real number in the following interval: (5.9999995 , 6.0000005). So, any number that has a result within this interval will be assiged as 6.0.\n"
      ],
      "metadata": {
        "id": "wKypGUuvZP3i"
      }
    },
    {
      "cell_type": "markdown",
      "source": [
        "Gap: the distance between two numbers\n",
        "- The gap increases as as $\\ 2^{e-1023}$ increases since the fraction is multiplied by it\n",
        "-You can compute the gap by using the *spacing* function from the numpy package\n",
        "\n",
        "Lets compute the gap at 1e5"
      ],
      "metadata": {
        "id": "Q7rRZEZ2vIjc"
      }
    },
    {
      "cell_type": "code",
      "source": [
        "import numpy as np\n",
        "np.spacing(1e5)"
      ],
      "metadata": {
        "colab": {
          "base_uri": "https://localhost:8080/"
        },
        "id": "6-6Aw9-Wv1My",
        "outputId": "5d8bf224-3e4c-4b58-d07a-8c7c6e85ca5c"
      },
      "execution_count": 49,
      "outputs": [
        {
          "output_type": "execute_result",
          "data": {
            "text/plain": [
              "1.4551915228366852e-11"
            ]
          },
          "metadata": {},
          "execution_count": 49
        }
      ]
    },
    {
      "cell_type": "markdown",
      "source": [
        "Notice, even though we add to 1e5, the gap remains the same. This happens as long as we add or subtract a number that is less than half the gap at 1e5."
      ],
      "metadata": {
        "id": "xAdw03FdwC6F"
      }
    },
    {
      "cell_type": "code",
      "source": [
        "1e5 == (1e5 + np.spacing(1e5)/3)"
      ],
      "metadata": {
        "colab": {
          "base_uri": "https://localhost:8080/"
        },
        "id": "Q8z0RAy3wCOJ",
        "outputId": "c14c6710-b5e9-475a-c9c8-b2e99b3eadd2"
      },
      "execution_count": 50,
      "outputs": [
        {
          "output_type": "execute_result",
          "data": {
            "text/plain": [
              "True"
            ]
          },
          "metadata": {},
          "execution_count": 50
        }
      ]
    },
    {
      "cell_type": "code",
      "source": [
        "1e5 == (1e5 - np.spacing(1e5)/3)"
      ],
      "metadata": {
        "colab": {
          "base_uri": "https://localhost:8080/"
        },
        "id": "IBjHpmhpwcIq",
        "outputId": "5c4aebd9-7d04-4651-91fd-55fbcc70161a"
      },
      "execution_count": 51,
      "outputs": [
        {
          "output_type": "execute_result",
          "data": {
            "text/plain": [
              "True"
            ]
          },
          "metadata": {},
          "execution_count": 51
        }
      ]
    },
    {
      "cell_type": "markdown",
      "source": [
        "Special cases:\n",
        "- when e=0\n",
        "  - underflow\n",
        "- when e=2047\n",
        "  - overflow\n",
        "\n",
        "To be within bounds, the smallest e we can have is 1 and the greatest is 2046.\n",
        "\n",
        "Largest:\n"
      ],
      "metadata": {
        "id": "zutB6hYuxAZj"
      }
    },
    {
      "cell_type": "code",
      "source": [
        "largest = (2**(2046-1023))*((1 + sum(0.5**np.arange(1, 53))))\n",
        "largest"
      ],
      "metadata": {
        "colab": {
          "base_uri": "https://localhost:8080/"
        },
        "id": "1XzKbrqW0Bc6",
        "outputId": "4811e4a0-9108-45d5-f283-6fad5c6f1d68"
      },
      "execution_count": 52,
      "outputs": [
        {
          "output_type": "execute_result",
          "data": {
            "text/plain": [
              "1.7976931348623157e+308"
            ]
          },
          "metadata": {},
          "execution_count": 52
        }
      ]
    },
    {
      "cell_type": "code",
      "source": [
        "largest == sys.float_info.max"
      ],
      "metadata": {
        "colab": {
          "base_uri": "https://localhost:8080/"
        },
        "id": "7wA7-WEh0Uye",
        "outputId": "32a57570-e519-4259-e6e1-e614ff875032"
      },
      "execution_count": 53,
      "outputs": [
        {
          "output_type": "execute_result",
          "data": {
            "text/plain": [
              "True"
            ]
          },
          "metadata": {},
          "execution_count": 53
        }
      ]
    },
    {
      "cell_type": "markdown",
      "source": [
        "Smallest:"
      ],
      "metadata": {
        "id": "3My76Omv0KzY"
      }
    },
    {
      "cell_type": "code",
      "source": [
        "smallest = (2**(1-1023))*(1+0)\n",
        "smallest"
      ],
      "metadata": {
        "colab": {
          "base_uri": "https://localhost:8080/"
        },
        "id": "H0WJ4lVH0OWA",
        "outputId": "e4ba1595-6047-4e07-d08b-f65d5cd86852"
      },
      "execution_count": 54,
      "outputs": [
        {
          "output_type": "execute_result",
          "data": {
            "text/plain": [
              "2.2250738585072014e-308"
            ]
          },
          "metadata": {},
          "execution_count": 54
        }
      ]
    },
    {
      "cell_type": "code",
      "source": [
        "smallest == sys.float_info.min"
      ],
      "metadata": {
        "colab": {
          "base_uri": "https://localhost:8080/"
        },
        "id": "HfPPVNB70FnF",
        "outputId": "f6762c99-212f-4bda-c2cb-f5907833fc4f"
      },
      "execution_count": 55,
      "outputs": [
        {
          "output_type": "execute_result",
          "data": {
            "text/plain": [
              "True"
            ]
          },
          "metadata": {},
          "execution_count": 55
        }
      ]
    },
    {
      "cell_type": "markdown",
      "source": [
        "Overflow:"
      ],
      "metadata": {
        "id": "8Wn3mH5C0nib"
      }
    },
    {
      "cell_type": "code",
      "source": [
        "sys.float_info.max + sys.float_info.max"
      ],
      "metadata": {
        "colab": {
          "base_uri": "https://localhost:8080/"
        },
        "id": "lCROICXZ0otE",
        "outputId": "a8444ac6-ba65-4874-97e3-dc4424f88a4d"
      },
      "execution_count": 56,
      "outputs": [
        {
          "output_type": "execute_result",
          "data": {
            "text/plain": [
              "inf"
            ]
          },
          "metadata": {},
          "execution_count": 56
        }
      ]
    },
    {
      "cell_type": "markdown",
      "source": [
        "Going out of bounds via overflow results in \"inf\"\n",
        "\n",
        "Underflow:"
      ],
      "metadata": {
        "id": "204sFgEz0_iZ"
      }
    },
    {
      "cell_type": "code",
      "source": [
        "sys.float_info.min - sys.float_info.min"
      ],
      "metadata": {
        "colab": {
          "base_uri": "https://localhost:8080/"
        },
        "id": "3RCAv5qE0sEB",
        "outputId": "5a707a85-0f6e-475c-ffbe-9ce12477d514"
      },
      "execution_count": 57,
      "outputs": [
        {
          "output_type": "execute_result",
          "data": {
            "text/plain": [
              "0.0"
            ]
          },
          "metadata": {},
          "execution_count": 57
        }
      ]
    },
    {
      "cell_type": "markdown",
      "source": [
        "Going out of bounds via underflow results in \"0.0.\" Python cannot distinguish the difference between 0.0 and any number that underflows to 0.0 (even though we know they are not the same).\n",
        "\n",
        "\n"
      ],
      "metadata": {
        "id": "QBdrYHKt1aE7"
      }
    },
    {
      "cell_type": "markdown",
      "source": [
        "\\\\\n",
        "***\n",
        "\\\\\n",
        "## Section 9.3: Round-off Errors"
      ],
      "metadata": {
        "id": "4fP6deev3G0y"
      }
    },
    {
      "cell_type": "markdown",
      "source": [
        "Since floating point numbers are represented in computers as base 2 fractions, perfect precision is not possible. Thus, we have something called \"round-off errors.\"\n",
        "\n",
        "Round-off Errors: the difference between the approximation (used in computers) of a number and its actual value.\n",
        "\n",
        "Representation error:\n",
        "- Representing $\\pi$ as 3.14159\n",
        "- Representing $\\ \\frac{2}{3}$ as 0.66666\n",
        "\n",
        "Another type of round-off error is seen when subtracting 4.9 by 0.055"
      ],
      "metadata": {
        "id": "Yeby8NnE3idL"
      }
    },
    {
      "cell_type": "code",
      "source": [
        "4.9 - 0.055 == 4.845"
      ],
      "metadata": {
        "colab": {
          "base_uri": "https://localhost:8080/"
        },
        "id": "xkW7J3xlBAYV",
        "outputId": "4ac369a3-ffe4-44ff-e710-3e43fd331de2"
      },
      "execution_count": 58,
      "outputs": [
        {
          "output_type": "execute_result",
          "data": {
            "text/plain": [
              "False"
            ]
          },
          "metadata": {},
          "execution_count": 58
        }
      ]
    },
    {
      "cell_type": "markdown",
      "source": [
        "This happens because the float cannot be represented with perfect precision. The the differnece of the numbers above actually gives us the following:\n"
      ],
      "metadata": {
        "id": "125E_OkNBsGx"
      }
    },
    {
      "cell_type": "code",
      "source": [
        "4.9 - 0.055"
      ],
      "metadata": {
        "colab": {
          "base_uri": "https://localhost:8080/"
        },
        "id": "QPkXR4ldBX3C",
        "outputId": "6f2fe1f8-1d18-41d5-ba3a-546a373ddf46"
      },
      "execution_count": 59,
      "outputs": [
        {
          "output_type": "execute_result",
          "data": {
            "text/plain": [
              "4.845000000000001"
            ]
          },
          "metadata": {},
          "execution_count": 59
        }
      ]
    },
    {
      "cell_type": "markdown",
      "source": [
        "The same thing can happen when adding certain numbers as well. To avoid this, you can use the *round* function."
      ],
      "metadata": {
        "id": "ju3d1StvCQqZ"
      }
    },
    {
      "cell_type": "code",
      "source": [
        "round(4.9 - 0.055,5) == round(4.845,5)"
      ],
      "metadata": {
        "colab": {
          "base_uri": "https://localhost:8080/"
        },
        "id": "zjloWJ0dCfMm",
        "outputId": "6a8769ff-6b80-4646-9de1-ad323bf682a8"
      },
      "execution_count": 60,
      "outputs": [
        {
          "output_type": "execute_result",
          "data": {
            "text/plain": [
              "True"
            ]
          },
          "metadata": {},
          "execution_count": 60
        }
      ]
    },
    {
      "cell_type": "markdown",
      "source": [
        "Accumulation of round-off error. You can add errors by simply repeating the same expression. For example:\n",
        "\n",
        "\n"
      ],
      "metadata": {
        "id": "QNMvGYzNDPxg"
      }
    },
    {
      "cell_type": "code",
      "source": [
        "1 + 2/3 - 2/3"
      ],
      "metadata": {
        "colab": {
          "base_uri": "https://localhost:8080/"
        },
        "id": "Q1nl3xI-D1Lu",
        "outputId": "1ed8aac4-7988-475a-eed6-4b6e154b7b6f"
      },
      "execution_count": 61,
      "outputs": [
        {
          "output_type": "execute_result",
          "data": {
            "text/plain": [
              "0.9999999999999999"
            ]
          },
          "metadata": {},
          "execution_count": 61
        }
      ]
    },
    {
      "cell_type": "code",
      "source": [],
      "metadata": {
        "id": "BIsOFTWvD6nE"
      },
      "execution_count": 61,
      "outputs": []
    },
    {
      "cell_type": "code",
      "source": [
        "def add_and_subtract(iterations):\n",
        "    initial = 1\n",
        "\n",
        "    for i in range(iterations):\n",
        "        initial += 2/3\n",
        "\n",
        "    for i in range(iterations):\n",
        "        initial -= 2/3\n",
        "    return initial\n",
        "\n",
        "add_and_subtract(50)"
      ],
      "metadata": {
        "colab": {
          "base_uri": "https://localhost:8080/"
        },
        "id": "CygHap3UEAGH",
        "outputId": "f27b27b9-390f-4b45-f367-839e91eb01d2"
      },
      "execution_count": 62,
      "outputs": [
        {
          "output_type": "execute_result",
          "data": {
            "text/plain": [
              "1.0000000000000013"
            ]
          },
          "metadata": {},
          "execution_count": 62
        }
      ]
    },
    {
      "cell_type": "code",
      "source": [
        "add_and_subtract(500)"
      ],
      "metadata": {
        "colab": {
          "base_uri": "https://localhost:8080/"
        },
        "id": "-_vjM8CYERUy",
        "outputId": "e9c2fd36-2cf8-4d25-8845-561a0974bff7"
      },
      "execution_count": 63,
      "outputs": [
        {
          "output_type": "execute_result",
          "data": {
            "text/plain": [
              "1.0000000000000155"
            ]
          },
          "metadata": {},
          "execution_count": 63
        }
      ]
    },
    {
      "cell_type": "code",
      "source": [
        "add_and_subtract(5000)"
      ],
      "metadata": {
        "colab": {
          "base_uri": "https://localhost:8080/"
        },
        "id": "LOo9hjubEW6M",
        "outputId": "0c9e49a5-add4-43e6-b824-b71a39001ac8"
      },
      "execution_count": 64,
      "outputs": [
        {
          "output_type": "execute_result",
          "data": {
            "text/plain": [
              "0.9999999999997881"
            ]
          },
          "metadata": {},
          "execution_count": 64
        }
      ]
    },
    {
      "cell_type": "markdown",
      "source": [
        "Notice, the error accumulates and increases each time!\n",
        "\n",
        "\\\\\n",
        "\n",
        "**The End**"
      ],
      "metadata": {
        "id": "YKP4xbx_EdB-"
      }
    },
    {
      "cell_type": "code",
      "source": [],
      "metadata": {
        "id": "eqszA8zAFvsB"
      },
      "execution_count": 64,
      "outputs": []
    }
  ]
}