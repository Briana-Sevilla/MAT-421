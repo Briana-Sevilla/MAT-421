{
  "nbformat": 4,
  "nbformat_minor": 0,
  "metadata": {
    "colab": {
      "provenance": [],
      "include_colab_link": true
    },
    "kernelspec": {
      "name": "python3",
      "display_name": "Python 3"
    },
    "language_info": {
      "name": "python"
    }
  },
  "cells": [
    {
      "cell_type": "markdown",
      "metadata": {
        "id": "view-in-github",
        "colab_type": "text"
      },
      "source": [
        "<a href=\"https://colab.research.google.com/github/Briana-Sevilla/MAT-421/blob/main/Module_G_Part_2.ipynb\" target=\"_parent\"><img src=\"https://colab.research.google.com/assets/colab-badge.svg\" alt=\"Open In Colab\"/></a>"
      ]
    },
    {
      "cell_type": "markdown",
      "source": [
        "# **Homework Set 9: Module G**"
      ],
      "metadata": {
        "id": "AsxXdAGCQmlX"
      }
    },
    {
      "cell_type": "markdown",
      "source": [
        "## Section 21.4: Simpson's Rule"
      ],
      "metadata": {
        "id": "s-T9iEfyQ-jM"
      }
    },
    {
      "cell_type": "markdown",
      "source": [
        "**Simpson's Rule**: given two suintervals, $[x_{i-1},x_i]$ and $[x_i,x_{i+1}]$, a quadratic polynomial that passes points $(x_{i-1},f({x_{i-1}})),(x_i,f(x_i)),$ and $(x_{i+1},f(x_{i+1}))$ is used to integrate the function $f(x)$ that passes through these intervals.\n",
        "\n",
        "To do this, we make a Lagrange polynomial that goes through these 3 said points. These polynomials are represented by the following equation:\n",
        "\n",
        "$P_i(x)=\\frac{f(x_{i-1})}{2h^2}(x-x_i)(x-x_{i+1})-\\frac{f(x_i)}{h^2}(x-x_{i-1})(x-x_{i+1})+\\frac{f(x_{i+1})}{2h^2}(x-x_{i-1})(x-x_i)$,\n",
        "\n",
        "where $h=$ step size between points\n",
        "\n",
        "Now that we have our polynomial, you just have to integrate:\n",
        "\n",
        "$\\int_{x_{i-1}}^{x_{i+1}}P_i(x)dx$\n",
        "\n",
        ">Note: This method integrates over 2 subintervals. Thus, we **must have an even** number of intervals!\n",
        "\n",
        "After calculating the area under $f(x)$ for every pair of subintervals, you add them all at the end.\n",
        "\n",
        "The following shows all of this at once:\n",
        "\n",
        "$\\int_a^bf(x)dx \\approx \\frac{h}{3}[f(x_0)+4(\\sum_{i=1,i\\in odd}^{n-1}f(x_i))+2(\\sum_{i=2,i\\in even}^{n-2}f(x_i))+f(x_n)]$\n",
        "\n",
        "\n",
        "Let's use Simpson's Rule to approximate $\\int_{-\\frac{\\pi}{2}}^{\\frac{\\pi}{2}}cos(x)dx$ with 10 subintervals of the same step size over the interval $[-\\frac{\\pi}{2},\\frac{\\pi}{2}]$! Note, having 10 intervals means we have 11 evenly spaced grid points throughout the interval! Knowing that the answer is 2, how does this method compare?"
      ],
      "metadata": {
        "id": "kvW-SaC8YDyj"
      }
    },
    {
      "cell_type": "code",
      "source": [
        "import numpy as np\n",
        "\n",
        "a = -np.pi/2 # Lower bound\n",
        "b = np.pi/2 # Upper bound\n",
        "n = 11 # Number of grid points\n",
        "h = (b - a) / (n - 1) # Length of each interval (step size)\n",
        "x = np.linspace(a, b, n) # Values from a to b with n number of total points\n",
        "f = np.cos(x) # Define function\n",
        "\n",
        "Simpson_Rule = (h/3) * (f[0] + 2*sum(f[:n-2:2])\n",
        "                        + 4*sum(f[1:n-1:2]) + f[n-1])\n",
        "\n",
        "Error = 2 - Simpson_Rule\n",
        "print(\"Approximation using Simpson's Rule: \",Simpson_Rule)\n",
        "print(\"Error: \",Error)"
      ],
      "metadata": {
        "colab": {
          "base_uri": "https://localhost:8080/"
        },
        "id": "RiHEap-kQ49y",
        "outputId": "394281f5-5bd1-49a8-e496-48c6921d0627"
      },
      "execution_count": null,
      "outputs": [
        {
          "output_type": "stream",
          "name": "stdout",
          "text": [
            "Approximation using Simpson's Rule:  2.0001095173150043\n",
            "Error:  -0.00010951731500430384\n"
          ]
        }
      ]
    },
    {
      "cell_type": "markdown",
      "source": [
        "As you cann see, the approximation is very close!"
      ],
      "metadata": {
        "id": "kec8icvh8Fai"
      }
    },
    {
      "cell_type": "markdown",
      "source": [
        "\\\\\n",
        "\n",
        "---\n",
        "\n",
        "\\\\\n",
        "## Section 21.5: Computing Integrals in Python"
      ],
      "metadata": {
        "id": "GR3455RIRG8r"
      }
    },
    {
      "cell_type": "markdown",
      "source": [
        "Luckily, we don't have to do all of this. We can use Python to compute integrals by using the *scipy.integrate* sub-package. The *trapz* function from this package takes an array of function values $f$ from a numerical grid $x$ as input arguments. Use this to approximate the integral above!"
      ],
      "metadata": {
        "id": "tFw1AcQ48LMK"
      }
    },
    {
      "cell_type": "code",
      "source": [
        "import numpy as np\n",
        "from scipy.integrate import trapezoid\n",
        "\n",
        "a = -np.pi/2 # Lower bound\n",
        "b = np.pi/2 # Upper bound\n",
        "n = 11 # Number of grid points\n",
        "h = (b - a) / (n - 1) # Length of each interval (step size)\n",
        "x = np.linspace(a, b, n) # Values from a to b with n number of total points\n",
        "f = np.cos(x) # Define function\n",
        "\n",
        "Approximation_trapezoid = trapezoid(f,x)\n",
        "Approximation = (h/2)*(f[0] + 2 * sum(f[1:n-1]) + f[n-1])\n",
        "\n",
        "\n",
        "\n",
        "print(\"Approximation using Trapezoidal Rule Function in Python: \",Approximation_trapezoid)\n",
        "print(\"Approximation using Trapezoidal Rule Equation (applied the actual formula)\", Approximation)\n",
        "print(\"Both Approximations are the same: True\") if Approximation == Approximation_trapezoid else print(\"Both Approximations are the same: False\")"
      ],
      "metadata": {
        "colab": {
          "base_uri": "https://localhost:8080/"
        },
        "id": "BGYXKAiMRUy8",
        "outputId": "4a4e7a2e-c89e-4e82-add4-bc69c8662919"
      },
      "execution_count": null,
      "outputs": [
        {
          "output_type": "stream",
          "name": "stdout",
          "text": [
            "Approximation using Trapezoidal Rule Function in Python:  1.9835235375094544\n",
            "Approximation using Trapezoidal Rule Equation (applied the actual formula) 1.9835235375094544\n",
            "Both Approximations are the same: True\n"
          ]
        }
      ]
    },
    {
      "cell_type": "markdown",
      "source": [
        "To find the approximated cumulative integral, use *cumtrapz* function *cumsum*, which has the same inputs as *trapz*. Lets find the cumulative approximation of the same function above with a discretization step of 0.01. Plot the results."
      ],
      "metadata": {
        "id": "PBRen0CLBb0L"
      }
    },
    {
      "cell_type": "code",
      "source": [
        "from scipy.integrate import cumulative_trapezoid\n",
        "import matplotlib.pyplot as plt\n",
        "import numpy as np\n",
        "\n",
        "a = -np.pi/2 # Lower bound\n",
        "b = np.pi/2 # Upper bound\n",
        "x = np.arange(a, b, 0.01)\n",
        "F_exact = np.sin(x)\n",
        "F_approx = cumulative_trapezoid(np.cos(x), x)\n",
        "\n",
        "plt.figure(figsize = (10,6))\n",
        "plt.plot(x, F_exact, label = \"Exact\")\n",
        "plt.plot(x[1::], F_approx, label = \"Approximated\")\n",
        "plt.grid()\n",
        "plt.xlabel('x')\n",
        "plt.ylabel('f(x)')\n",
        "plt.title('$F(x) = \\int_0^{x} cos(y) dy$')\n",
        "plt.legend()\n",
        "plt.show()"
      ],
      "metadata": {
        "colab": {
          "base_uri": "https://localhost:8080/",
          "height": 576
        },
        "id": "cxNN5a0RB9a7",
        "outputId": "403cca3e-c5a4-49ac-ab3c-517695597144"
      },
      "execution_count": null,
      "outputs": [
        {
          "output_type": "display_data",
          "data": {
            "text/plain": [
              "<Figure size 1000x600 with 1 Axes>"
            ],
            "image/png": "[encoded data removed]"
          },
          "metadata": {}
        }
      ]
    },
    {
      "cell_type": "markdown",
      "source": [
        "Another way to approximate the integral is by using the *integrate.quad* function, which accepts $(f,a,b)$ as its inputs."
      ],
      "metadata": {
        "id": "aFSeWh3YEfhp"
      }
    },
    {
      "cell_type": "code",
      "source": [
        "from scipy.integrate import quad\n",
        "\n",
        "# Outputs: approx of integral, estimated absolute error\n",
        "quad, Estimated_abs_error = quad(np.cos, a, b)\n",
        "\n",
        "Error = 2 - quad #actual error\n",
        "print(\"Approximation using quad function: \",quad)\n",
        "print(\"Estimated Absolute Error: \",Estimated_abs_error)\n",
        "print(\"Actual Error: \",Error)"
      ],
      "metadata": {
        "colab": {
          "base_uri": "https://localhost:8080/"
        },
        "id": "aSdiXcHHEsyj",
        "outputId": "215287aa-9423-4ef8-a913-29f0b08c63ec"
      },
      "execution_count": null,
      "outputs": [
        {
          "output_type": "stream",
          "name": "stdout",
          "text": [
            "Approximation using quad function:  2.0\n",
            "Estimated Absolute Error:  2.220446049250313e-14\n",
            "Actual Error:  0.0\n"
          ]
        }
      ]
    },
    {
      "cell_type": "markdown",
      "source": [
        "\\\\\n",
        "\n",
        "$\\heartsuit End \\heartsuit$"
      ],
      "metadata": {
        "id": "vYNfxGjMRV3L"
      }
    }
  ]
}