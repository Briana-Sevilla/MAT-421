{
  "nbformat": 4,
  "nbformat_minor": 0,
  "metadata": {
    "colab": {
      "provenance": [],
      "authorship_tag": "ABX9TyNRJIN0z3lNbpMJ78dcIm/D",
      "include_colab_link": true
    },
    "kernelspec": {
      "name": "python3",
      "display_name": "Python 3"
    },
    "language_info": {
      "name": "python"
    }
  },
  "cells": [
    {
      "cell_type": "markdown",
      "metadata": {
        "id": "view-in-github",
        "colab_type": "text"
      },
      "source": [
        "<a href=\"https://colab.research.google.com/github/Briana-Sevilla/MAT-421/blob/main/Module_C.ipynb\" target=\"_parent\"><img src=\"https://colab.research.google.com/assets/colab-badge.svg\" alt=\"Open In Colab\"/></a>"
      ]
    },
    {
      "cell_type": "markdown",
      "source": [
        "# **Homework Set 4: Module C**"
      ],
      "metadata": {
        "id": "iMK3pG88YHBk"
      }
    },
    {
      "cell_type": "markdown",
      "source": [
        "## Section 19.1: Root Finding Problem Statement"
      ],
      "metadata": {
        "id": "YTOb345XYuGd"
      }
    },
    {
      "cell_type": "markdown",
      "source": [
        "The roots, $\\ x_r $, of a function $\\ f(x)$ have the following property:\n",
        "$\\ f(x_r)=0$ However, finding exact roots of a $\\ f(x)$ can be hard when there is no analytic solution. Luckily, you can use the function *fsolve* from *scipy*. For example, lets calculate teh roots of the following function:\n",
        "$\\ f(x) = cos(x) - 2x$ near $\\ -3$"
      ],
      "metadata": {
        "id": "soXibHgej20m"
      }
    },
    {
      "cell_type": "code",
      "source": [
        "import numpy as np\n",
        "from scipy import optimize\n",
        "\n",
        "f = lambda x: np.cos(x) - 2*x\n",
        "r = optimize.fsolve(f,-3)\n",
        "print(\"root = \", r)\n",
        "\n",
        "result = f(r)\n",
        "print(\"result = \", result)"
      ],
      "metadata": {
        "colab": {
          "base_uri": "https://localhost:8080/"
        },
        "id": "TOOFK426Ymqz",
        "outputId": "44650e92-e600-4bd0-e2d5-b29c1666deaa"
      },
      "execution_count": 10,
      "outputs": [
        {
          "output_type": "stream",
          "name": "stdout",
          "text": [
            "root =  [0.45018361]\n",
            "result =  [0.]\n"
          ]
        }
      ]
    },
    {
      "cell_type": "markdown",
      "source": [
        "As you can see, the calculated root follows the property above. However, this does not work when you input a function that has no root. For example, try to find the root of $\\ f(x)= \\frac{1}{3x}$ near $\\ -3$"
      ],
      "metadata": {
        "id": "xbFh0StstqvW"
      }
    },
    {
      "cell_type": "code",
      "source": [
        "f = lambda x: 1/(3*x)\n",
        "r, infodict, ier, mesg = optimize.fsolve(f,-3, full_output=True)\n",
        "print(\"root = \", r)\n",
        "result = f(r)\n",
        "print(\"result = \", result)\n",
        "print(\"mesg = \", mesg)"
      ],
      "metadata": {
        "colab": {
          "base_uri": "https://localhost:8080/"
        },
        "id": "u7qKtBGqvWPW",
        "outputId": "340706b6-30b9-4db5-8ce0-68537e73e030"
      },
      "execution_count": 15,
      "outputs": [
        {
          "output_type": "stream",
          "name": "stdout",
          "text": [
            "root =  [-5.28071039e+83]\n",
            "result =  [-6.31228204e-85]\n",
            "mesg =  The number of calls to function has reached maxfev = 400.\n"
          ]
        }
      ]
    },
    {
      "cell_type": "markdown",
      "source": [
        "As you can see, the root calculated above is not a root of the function $\\ f(x)= \\frac{1}{3x}$\n",
        "\n",
        "Note: turning on the full_output shows a message (mesg) if there is no solution, which tells us what went wrong."
      ],
      "metadata": {
        "id": "AuHnO8TfwGIH"
      }
    },
    {
      "cell_type": "markdown",
      "source": [
        "\n",
        "\\\\\n",
        "\n",
        "---\n",
        "\n",
        "\\\\\n",
        "\n",
        "## Section 19.2: Tolerance"
      ],
      "metadata": {
        "id": "4m7cZVHgh-D3"
      }
    },
    {
      "cell_type": "markdown",
      "source": [
        "**Tolerance**: level of error that is acceptable.\n",
        "\n",
        "**Converge**: the solution found has an error smaller than the tolerance.\n",
        "\n",
        "These concepts are important when calculating roots numerically in the field of engineering and science.\n",
        "\n",
        "Since we want our roots to ultimately satisfy the property mentioned in 19.1, some possible ways to measure error to have a root close to zero but below the tolerance level are the following:\n",
        "- $\\ e=|f(x)| $: the smaller it is, the closer we are to a root.\n",
        "  - Example: $\\ f(x)=x^2 + tol/4$ has no real roots. However, when the $\\ root=x=0$, $\\ |f(0)|=tol/4 $, which is obviously under the tolerance level and thus, acceptable.\n",
        "\n",
        "- $\\ e=|x_{i+1} - x_i|$: the improvements between succeeding guesses should decrease as the computer program converges to a solution.\n",
        ">Note: $\\ x_i$ is the $\\ ith$ guess of a computer algorithm for finding the root of a function.\n",
        "\n",
        "  - Example: $\\ f(x) = \\frac{2}{5x}$ has no real roots, but lets say the computer's ith guess is $\\ x_i=-tol/3$ and its next guess is $\\ x_{i+1}=tol/3$. Then, $\\ e=|x_{i+1} - x_i|=|tol/3 + tol/3|= 2tol/3$ , which is under the tolerance level.\n"
      ],
      "metadata": {
        "id": "znfxyqjjyEDJ"
      }
    },
    {
      "cell_type": "markdown",
      "source": [
        "\n",
        "\\\\\n",
        "\n",
        "---\n",
        "\n",
        "\\\\\n",
        "\n",
        "## Section 19.3: Bisection Method"
      ],
      "metadata": {
        "id": "X5DAFErJiKJz"
      }
    },
    {
      "cell_type": "markdown",
      "source": [
        "**Intermediate Value Theorem**: if the function $\\ f(x)$ is continuous between $\\ a$ and $\\ b$ and $\\ sign(f(a)) \\neq sign(f(b))$, then a number $\\ c$ exists  such that $\\ a < c < b $ and $\\ f(c)=0$.\n",
        "\n",
        ">Mental note: The theorem above means that if a continuous line between $\\ a$ and $\\ b$ crosses the x-axis, there must be a number $\\ c $ between $\\ a$ and $\\ b$ such that $\\ f(c)=0$.\n",
        "\n",
        "For example, if $\\ g(x)$ satisfies the conditions of the intermediate value theorem, then if $\\ g(a)>0$ (above the x-axis) and $\\ g(b)< 0$ (below x-axis), then there must be a number $\\ c$, such that $\\ g(c)=0$. However, we don't know where $\\ c$ is in the interval $\\ (a,b)$. Thus, let $\\ m= \\frac{b+a}{2}$ (midpoint between interval $\\ (a,b)$). If $\\ g(m)=0$ or near 0, then the $\\ root=m$. However, if $\\ g(m)< 0$ (below x-axis), then our root is guaranteed to be in the interval $\\ (c,b)$. On the other hand, if $\\ g(m)>0$ (above x-axis), then the root has to be in the interval $\\ (a,c)$.\n",
        "\n",
        "The **bisection method** uses the theorem above in its iterations to get close to the root. This method updates $\\ a$ and $\\ b$ until we are under the tolerance level.\n",
        "\n",
        "\\\\\n",
        "\n",
        "Example, let $\\ f(x)=x^2-3$ satisfy the conditions of the intermediate theorem. If $\\ f(x)$ is bounded by $\\ a=0$ and $\\ b=2$, then there must be a number $\\ c$ such that $\\ f(c)=0$.\n",
        "\n",
        "First lets calculate $\\ f(a)$ and $\\ f(b)$.\n",
        "\n",
        "$\\ f(a)=f(0)=(0)^2-3=-3$, note, $\\ f(a)$ is negative\n",
        "\n",
        "$\\ f(b)=f(2)=(2)^2-3=1$, note, $\\ f(b)$ is positive\n",
        "\n",
        "Lets make the midpoint $\\ m= \\frac{b-a}{2} = \\frac{2-0}{2}=1$.\n",
        "\n",
        "Now we have to check if $\\ m=c$ such that $\\ f(m)=0$. Since $\\ m=1$:\n",
        "\n",
        "$\\ f(1)=(1)^2-3=-2$\n",
        "\n",
        "Since $\\ f(1)< 0$, $\\ m$ is an improvement on $\\ a$ (because they are both negative) and we make $\\ a=m$.\n",
        "\n",
        "Now, we repeat this process with the updated $\\ a$:\n",
        "\n",
        "If $\\ m= \\frac{b-a}{2} = \\frac{2-1}{2}=\\frac{1}{2}$\n",
        "\n",
        "then $\\ f(m)= f(\\frac{1}{2})=(\\frac{1}{2})^2-3=-2.75$\n",
        "\n",
        "Again, since $\\ f(m)$ is negative like $\\ f(a)$, it is an improvement of a. So,\n",
        "\n",
        "if $\\ m= \\frac{b-a}{2} = \\frac{2-\\frac{1}{2}}{2}=\\frac{3}{4}$\n",
        "\n",
        "then, $\\ f(m)= f(\\frac{3}{4})=(\\frac{3}{4})^2-3=-2.4375$\n",
        "\n",
        "We continue this process until $\\ |f(m)|< tol$. After some interations,$\\ m$ will approach $\\ \\sqrt{3}$ such that $\\ f(\\sqrt{3}) \\approx 0$ (it will eventually be smaller than the tolerance level, which can be, for instance, $\\ tol=0.01$).\n",
        "\n",
        ">Note: this method does not work if the intermediate value theorem does not apply (i.e. $\\ f(x)$ is not continuous in the interval $\\ (a,b)$, where $\\ a< b$ or if $\\ f(a)$ and $\\ f(b)$ have the same sign)\n",
        "\n"
      ],
      "metadata": {
        "id": "-CrfRePW9FaG"
      }
    },
    {
      "cell_type": "markdown",
      "source": [
        "\n",
        "\\\\\n",
        "\n",
        "---\n",
        "\n",
        "\\\\\n",
        "\n",
        "## Section 19.4: Newton-Raphson Method"
      ],
      "metadata": {
        "id": "3PqgpQLGiPgu"
      }
    },
    {
      "cell_type": "markdown",
      "source": [
        "The Newton-Raphson Method finds roots by iterating Newton Steps. Newton steps can be represented by the following equation:\n",
        "$\\ x_i=x_{i-1}- \\frac{g(x_{i-1})}{g'(x_{i-1})}$\n",
        "\n",
        "where:\n",
        "- $\\ x_i$ is an improved guess from the previous one $\\ x_{i-1}$ of what the unknown root of $\\ g(x)$ is\n",
        "- $\\ g(x)$ is a smooth and continuous function\n",
        "\n",
        "This method takes a linear approximation of $\\ g(x)$ around $\\ x_{i-1}$ and traces its intersection with the x-axis. This intersection becomes $\\ x_i$. We iterate the Newton step until the error is less than the tolerance.\n",
        "\n",
        "Example: Use the Newton-Raphson Method to find the square root of the previous problem: $\\ f(x)=x^2-3$. Let $\\ x_0=1.7$ be the starting point.\n",
        "\n",
        "$\\ x_i=x_{i-1}- \\frac{g(x_{i-1})}{g'(x_{i-1})}$\n",
        "\n",
        "$\\ =1.7- \\frac{(1.7)^2-3}{2(1.7)}$\n",
        "\n",
        "$\\ = 1.73235294118$\n",
        "\n",
        "Lets check how accurate we are using Python.\n",
        ">Note: We only did one iteration because we already chose a value very close to $\\ \\sqrt{3}$. If you start further away, you would have to keep iterating until the error is smaller than the tolerance!\n",
        "\n"
      ],
      "metadata": {
        "id": "Ahzy9yNOgEBa"
      }
    },
    {
      "cell_type": "code",
      "source": [
        "import numpy as np\n",
        "\n",
        "f = lambda x: x**2 -3\n",
        "f_prime = lambda x: 2*x\n",
        "newton_raphson = 1.7 - (f(1.7))/f_prime(1.7)\n",
        "\n",
        "print(\"Newton-Raphson = \", newton_raphson)\n",
        "print(\"sqrt(3) = \", np.sqrt(3))"
      ],
      "metadata": {
        "colab": {
          "base_uri": "https://localhost:8080/"
        },
        "id": "haLtI1ILid7a",
        "outputId": "c0a3845a-9761-4bf5-f42b-2f9581f7d38e"
      },
      "execution_count": 22,
      "outputs": [
        {
          "output_type": "stream",
          "name": "stdout",
          "text": [
            "Newton-Raphson =  1.7323529411764707\n",
            "sqrt(3) =  1.7320508075688772\n"
          ]
        }
      ]
    },
    {
      "cell_type": "markdown",
      "source": [
        "Although the method seems to work better than the bisection method (this is true when our initial guess is close to the actual root), it has a lot of limitations:\n",
        "- Since we do not know what the actual root of a function is beforehand, our initial guess can be very far off. This means we will require a lot of iterations\n",
        "- If the derivative of the function is close to 0, the Newton step will be very big. This is due to the function's derivative being in the denominator.\n",
        "- Depending on the behavior of the function derivative between our initial guess and the actual root of the function, this method may converge to a different root."
      ],
      "metadata": {
        "id": "Tn2xQBsLtXz7"
      }
    },
    {
      "cell_type": "markdown",
      "source": [
        "\n",
        "\\\\\n",
        "\n",
        "---\n",
        "\n",
        "\\\\\n",
        "\n",
        "## Section 19.5: Root Finding in Python"
      ],
      "metadata": {
        "id": "rAkd4k5jijFF"
      }
    },
    {
      "cell_type": "markdown",
      "source": [
        "Lucky for us, Python has many functions that can help us find the root(s) of a function! One of them is the function *f_solve* from *scipy.optimize*.\n",
        "\n",
        "Lets use this function to find the roots of $\\ f(x) = x^2-9$"
      ],
      "metadata": {
        "id": "jCg5k3JCwRA8"
      }
    },
    {
      "cell_type": "code",
      "source": [
        "from scipy.optimize import fsolve\n",
        "\n",
        "# write the function\n",
        "f = lambda x: x**2-9\n",
        "\n",
        "# Use fsolve(function, initial guess(es))\n",
        "fsolve(f, [-1, 1 ])"
      ],
      "metadata": {
        "colab": {
          "base_uri": "https://localhost:8080/"
        },
        "id": "kmN1i6wUyEd_",
        "outputId": "a8f89288-a141-48ca-cf7e-56988b87ec33"
      },
      "execution_count": 24,
      "outputs": [
        {
          "output_type": "execute_result",
          "data": {
            "text/plain": [
              "array([-3.,  3.])"
            ]
          },
          "metadata": {},
          "execution_count": 24
        }
      ]
    },
    {
      "cell_type": "markdown",
      "source": [
        "As you can see, *fsolve* gave us the two roots from the equation above!"
      ],
      "metadata": {
        "id": "aZR3EWTHy1BR"
      }
    },
    {
      "cell_type": "markdown",
      "source": [
        "\\\\\n",
        "\n",
        "**The End**"
      ],
      "metadata": {
        "id": "iXBi37MWzc3N"
      }
    },
    {
      "cell_type": "code",
      "source": [],
      "metadata": {
        "id": "3MwNCU-Pzdun"
      },
      "execution_count": null,
      "outputs": []
    }
  ]
}