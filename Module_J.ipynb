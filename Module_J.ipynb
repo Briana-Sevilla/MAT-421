{
  "nbformat": 4,
  "nbformat_minor": 0,
  "metadata": {
    "colab": {
      "provenance": [],
      "authorship_tag": "ABX9TyNL3EXYKq9+9JQykq8GCD0q",
      "include_colab_link": true
    },
    "kernelspec": {
      "name": "python3",
      "display_name": "Python 3"
    },
    "language_info": {
      "name": "python"
    }
  },
  "cells": [
    {
      "cell_type": "markdown",
      "metadata": {
        "id": "view-in-github",
        "colab_type": "text"
      },
      "source": [
        "<a href=\"https://colab.research.google.com/github/Briana-Sevilla/MAT-421/blob/main/Module_J.ipynb\" target=\"_parent\"><img src=\"https://colab.research.google.com/assets/colab-badge.svg\" alt=\"Open In Colab\"/></a>"
      ]
    },
    {
      "cell_type": "markdown",
      "source": [
        "# **Homework Set 12: Module J**"
      ],
      "metadata": {
        "id": "DGhX7H2CS409"
      }
    },
    {
      "cell_type": "markdown",
      "source": [
        "## Chapter 4: Network Analysis"
      ],
      "metadata": {
        "id": "9NllqeNDTk9h"
      }
    },
    {
      "cell_type": "markdown",
      "source": [
        "**Social graph:** a graph that models networks.\n",
        "\n",
        "There is a **node** for every individual. If two nodes are related by the relationship that characterizes the network, an **edge** connects them.\n",
        "\n",
        "**Community clusters:** groups of nodes that are closer/more connected to each other than other nodes.\n",
        "\n",
        "The space between community clusters illustrate the strength of network connectivity between them.\n",
        ">Note: This **does not** refer to individual nodes!"
      ],
      "metadata": {
        "id": "JfQtSBjb7jWD"
      }
    },
    {
      "cell_type": "markdown",
      "source": [
        "### Section 4.1.1: Graph Models"
      ],
      "metadata": {
        "id": "8ECFk6t8UTry"
      }
    },
    {
      "cell_type": "markdown",
      "source": [
        "Graphs consist of nodes and edges. Each graph has a pair **$G(V,E)$**,\n",
        "\n",
        "where:\n",
        "- $V=\\{ v_1,v_2,...,v_n \\}$ is the set of nodes\n",
        "- $E=\\{ e_1,e_2,...,e_m\\}$ is the set of edges\n",
        ">Note: The size of the set is $m=|E|$\n",
        "\n",
        "Edges can be represented the following ways:\n",
        "- $e(v_1,v_2)$\n",
        "- (v_1,v_2)\n",
        "\n",
        "Types of graphs:\n",
        "- Undirected Graph\n",
        "  - The edges are not directed: nodes are connected both ways! $e(v_1,v_2)$ is the same as $e(v_2,v_1)$\n",
        "- Directed Graph\n",
        "  - The edges have a direction: $e(v_1,v_2)$ is **NOT** the same as $e(v_2,v_1)$\n",
        "- Mixed Graph\n",
        "  - Consists of both directed and undirected edges\n",
        "\n",
        "  **Path:** a sequence of edges where nodes and edges are distinct.\n",
        "  - Ex: $e_1(v_1,v_2),e_2(v_2,v_3),...,e_i(v_i,v_{i+1})$\n",
        "\n",
        "  **Cycle:** a closed path.\n",
        "\n",
        "  To find the lenth of a cycle or path, count the number of edges that created them.\n",
        "  - In a directed graph, only count the number of directed paths\n",
        "  - In a connected graph, numerous paths can exist among any pair of nodes\n",
        "    - In this case, we are usually interested in the shortest path\n",
        "\n",
        "***n*-hop:** an *n* neighborhood of node $v_i$ is the set of nodes that are within *n* hops distance from it.\n",
        "\n",
        "The **degree** of a node in a graph is the number of edges connecetd to the node. For example, if a node has 3 edges, its degree is 3.\n",
        "\n",
        "Directed graphs have the following degrees:\n",
        "1) **In-degrees:** edges towards the node\n",
        "\n",
        "2) **Out-degrees:** edges away from the node\n",
        "\n",
        "**Degree centrality:** describes the relative levels of importance/prestige of a node.\n",
        "- $⇑$ connections results in a  $⇑$ degree of centrality"
      ],
      "metadata": {
        "id": "ba0avy-KaA9c"
      }
    },
    {
      "cell_type": "markdown",
      "source": [
        "### Section 4.1.2: Laplacian Matrix"
      ],
      "metadata": {
        "id": "jb1CMJ2CDdmv"
      }
    },
    {
      "cell_type": "markdown",
      "source": [
        "A graph that contains $n$ nodes can be represented by an $n \\times n$ adjacency matrix.\n",
        "\n",
        "A connection between $v_i$ and $v_j$ is represented with a value of $1$ at row $i$, column $j$. No connection is represented with a $0$. A directed graph's adjacency matrix is not in general symmetric since there can be two edges between two nodes. On the other hand, undirected graphs have a symmetric adjacency matrix.\n",
        "\n",
        "A **Laplacian Matrix** is a symmetric matrix with one row and column for each vertex. It can be represented by the following:\n",
        "\n",
        "\\begin{equation}\n",
        "L_{ij} =\n",
        "\\begin{cases}\n",
        "\\sum_kE_{ik}, & \\text{if } i = j, \\\\\n",
        "-E_{ij} & \\text{if } i \\neq j, \\text{ and } v_i \\text{is adjacent to } v_j, \\\\\n",
        "0, & \\text{otherwise. }\n",
        "\\end{cases}\n",
        "\\end{equation}\n",
        "\n",
        "where $E_{i,j}$ represents the weight connecting nodes $i,j$.\n",
        "\n",
        "**Theorem.**\n",
        "\"The Laplacian matrix $L$ has the following properties:\n",
        "\n",
        "1.   $L=D-M$, where $M$ is the adjacency matrix and $D$ is the diagonal degree matric with $D_{ii}=\\sum_kE_{ij}$\n",
        "\n",
        "2.   $L=I_gI_g^T$, where $I_g$ is an $n\\times m$ incidence matrix of matrix $g$. It has one row per vertex and one column per edge.\n",
        "3.   $L$ is symmetric positive semi-definite. All eigenvalues of $L$ are real and non-negative, and $L$ has a full set of n real and orthogonal eigenvectors.\n",
        "4.   Let $e$ be a vertical vector of ones. Then $Le=0$. Thus, $0$ is the smallest eigenvalue and $e$ is the corresponding eigenvector.\n",
        "5.   If the graph $G$ has $c$ connected components, then $L$ has $c$ eigenvalues that is $0$\n",
        "6.   For any vector $x,x^TLx=\\sum_{\\{ i,j \\} \\in E}E_{ij}(x_i-x_j)^2$.\n",
        "7.   For any vector $x$ and scalars $\\alpha,\\beta,$ $(\\alpha x+\\beta e)^TL(\\alpha x + \\beta e) = \\alpha ^2x^TLx$\n",
        "8.   The problem\n",
        "\n",
        "$min_{x\\neq 0}x^TLx $, subject to , $ x^Tx=1$, $x^Te=0$,\n",
        "\n",
        "is solved when $x$ is the eigenvector corresponding to the second smallest eigenvalue (the Fiedler vector) $\\lambda_2$ of the eigenvalue problem\n",
        "\n",
        "$Lx=\\lambda x$\" (pg 90-91)\n",
        "\n",
        "Source: file:///C:/Users/owner/Downloads/chapter4Notes.pdf"
      ],
      "metadata": {
        "id": "WunPUvMaDpfE"
      }
    }
  ]
}