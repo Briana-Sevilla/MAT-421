{
  "nbformat": 4,
  "nbformat_minor": 0,
  "metadata": {
    "colab": {
      "provenance": [],
      "authorship_tag": "ABX9TyP897uvxe+UUJwRSA4G8RSk",
      "include_colab_link": true
    },
    "kernelspec": {
      "name": "python3",
      "display_name": "Python 3"
    },
    "language_info": {
      "name": "python"
    }
  },
  "cells": [
    {
      "cell_type": "markdown",
      "metadata": {
        "id": "view-in-github",
        "colab_type": "text"
      },
      "source": [
        "<a href=\"https://colab.research.google.com/github/Briana-Sevilla/MAT-421/blob/main/Module_E.ipynb\" target=\"_parent\"><img src=\"https://colab.research.google.com/assets/colab-badge.svg\" alt=\"Open In Colab\"/></a>"
      ]
    },
    {
      "cell_type": "markdown",
      "source": [
        "# **Homework Set 6: Module E**"
      ],
      "metadata": {
        "id": "pVrN73OYqI2n"
      }
    },
    {
      "cell_type": "markdown",
      "source": [
        "## Section 3.2: Continuity and Differentiation"
      ],
      "metadata": {
        "id": "JGoq_5zTRRNu"
      }
    },
    {
      "cell_type": "markdown",
      "source": [
        "### 3.2.1: Limits and Continuity"
      ],
      "metadata": {
        "id": "OkDZYZYruse6"
      }
    },
    {
      "cell_type": "markdown",
      "source": [
        "The Euclidean norm is used such that\n",
        "\n",
        "$||x⃗||=\\sqrt{\\sum_{i=1}^dx_i^2}$\n",
        "\n",
        "where:\n",
        "- $x⃗ = (x_1,...,x_d)^T$\n",
        "\n",
        "The open $r$-ball around $x \\in ℝ^d$ is the set of points within the Euclidean distance radius, $r$ ($x$ is the origin). This can be represented by the following:\n",
        "\n",
        "$B_r(x)=\\{y \\in ℝ^d: ||y-x||< r\\}$\n",
        "\n",
        "$x$ is a limit point of a set, $A$, if all the open balls around $x$ have one element, $a$ of $A$ in their circle that is not $x$ ($a\\neq x$). If every open ball does not contain one element, $x$ is not a limit point.\n",
        "\n",
        "Every limit point of a closed set $A$ belongs to $A$. On the other hand, an open set has the following property:\n",
        "\n",
        "$B_r(x) ⊆ A$ for all $x \\in A$\n",
        "\n",
        "The **Limit of a Function** can be represented by:\n",
        "\n",
        "$\\lim\\limits_{x \\to a} f(x)=L $\n",
        "\n",
        "where:\n",
        "- $f: D \\to ℝ $ is a real-valued function on $D⊆ ℝ^d$\n",
        "- $L \\in ℝ$\n",
        "\n",
        "A fucntion is **continuous** if its value does not change abruptly (no breaks or jumps). If the function introduced above is continuous, it can be expressed the following way:\n",
        "\n",
        "$\\lim\\limits_{x \\to a}f(x)=f(a)$\n",
        "\n",
        "where $a \\in D$\n",
        "\n",
        "Composition function $g∘f$ or $g(f(x))$ is continuous at $x_0$ if $f$ is continuous at $x_0$ and if $g$ is continuous on $f(x_0)$.\n",
        "\n",
        "**Max**: largest value in $f(x)$.\n",
        "\n",
        "**Min**: smallest value in $f(x)$.\n",
        "\n",
        "**Extreme Value**: values that are either the maximum or minimum."
      ],
      "metadata": {
        "id": "vgoFOCQZww_b"
      }
    },
    {
      "cell_type": "markdown",
      "source": [
        "### 3.2.2: Derivatives"
      ],
      "metadata": {
        "id": "AbXge7uYCrMa"
      }
    },
    {
      "cell_type": "markdown",
      "source": [
        "#### 3.2.2.1: Single-Variable Case"
      ],
      "metadata": {
        "id": "64-weVM7CwbC"
      }
    },
    {
      "cell_type": "markdown",
      "source": [
        "**Derivative**: measures the rate of change of a function's output value in respect to another variable. This can be represented by the following:\n",
        "\n",
        "$f'(x_0) = \\frac{df(x_0)}{dx}=\\lim\\limits_{h \\to 0}\\frac{f(x_0+h)-f(x_0)}{h}$ (if the limit exists)\n",
        "\n",
        "A derivative is most commonly known as the slope of a line (rise over run, which is a rate of change). Derivatives can also help us find extreme values:\n",
        "\n",
        "$f'(x)=0$ (solve for x. The solution(s) tell us when we have an extreme value)\n",
        "\n",
        "Here is an example of how to find the derivative of a function:\n",
        "\n",
        "$g'(x) = (x^2+5x+1)\\frac{d}{dx}= 2x+5+0=2x+5$\n",
        "\n",
        "To find the derivative at a specific $x$, just plug it into $2x+5$.\n",
        "\n",
        "Example of how to find extreme values:\n",
        "\n",
        "Let $f(x)=-x^2+4$. We know our max value is 4 at coordinate $(0,4)$. Lets see if we get the same thing using derivatives!\n",
        "\n",
        "1) Find derivative of function\n",
        "\n",
        "$f'(x)=-2x+0=-2x$\n",
        "\n",
        "2} Equal derivative to $0$ and solve for $x$\n",
        "\n",
        "$f'(x)=-2x=0$\n",
        "\n",
        "So, $x=0$\n",
        "\n",
        "3) Plug $x$ value back into original equation to see what the max output is\n",
        "\n",
        "$f(0)=-(0)^2+4=0+4=4$\n",
        "\n",
        "So, as we already knew, we have a max value of $4$ at $x=0$.\n",
        "\n",
        "**Rolle Theorem**: If $f$ is a continuous function with a derivative that exists in the interval $(a,b)$ and if $f(a)=f(b)$, then there must be a value $c$ such that $a < c < b$ that tells us when an extreme value happens ($f'(c)=0$).\n",
        "\n",
        "**Mean Value Theorem**: If $f$ is a continuous function with a derivative that exists in the interval $(a,b)$, there exists $a < c < b$ such that\n",
        "\n",
        "$f'(c) = \\frac{f(b)-f(a)}{b-a}$\n",
        "\n",
        "You can also take the derivative of a derivative (higher-order derivative) as many times ad you want. This can be represented by the following:\n",
        "\n",
        "$f''(x_0)=\\frac{d^2f(x_0)}{dx^2}=\\lim\\limits_{h \\to 0} \\frac{f'(x_0+h)-f'(x_0)}{h}$ (if the limit exists)\n",
        "\n",
        "For example, lets take the second derivative of the function we had above:\n",
        "\n",
        "1st derivative: $f'(x)=-2x$\n",
        "\n",
        "2nd derivative: $f''(x) = -2$\n",
        "\n",
        "YOu can keep going!\n",
        "\n",
        "3rd derivative: $f'''(x)=0$\n",
        "\n",
        "From here on out, your derivative will always be $0$ since the derivative of a constant is $0$."
      ],
      "metadata": {
        "id": "jsvz_CKqC1-W"
      }
    },
    {
      "cell_type": "markdown",
      "source": [
        "#### 3.2.2.2: General Case"
      ],
      "metadata": {
        "id": "hZOD-U32LmN0"
      }
    },
    {
      "cell_type": "markdown",
      "source": [
        "A **partial derivative**  of $f$ at $x_0$ in respect to $x_i$ can be represented the following way:\n",
        "\n",
        "$\\frac{∂f(x_0)}{\\partial x_i}=\\lim\\limits_{h \\to 0} \\frac{f(x_0+he⃗ _i)-f(x_0)}{h}$\n",
        "\n",
        "where\n",
        "- We assume the limit exists\n",
        "- $e⃗_i \\in ℝ^d$ and it is the $i$-th standard basis vector\n",
        "\n",
        "Find the partial derivative of $f(x,y)=2xy+x^2y+3y$ in respect to $x$. You do this by imagining $y$ to be a constant and continuing to take the derivative normally:\n",
        "\n",
        "$\\frac{∂f(x,y)}{∂x}=f_x(x,y)=2y+2xy+0=2y+2xy$\n",
        "\n",
        "Lets check our work!"
      ],
      "metadata": {
        "id": "mRGLfqkuLrks"
      }
    },
    {
      "cell_type": "code",
      "source": [
        "from sympy import *  # This includes the importation of Symbol, diff\n",
        "\n",
        "# Specifies which variables are symbols\n",
        "x = symbols('x')\n",
        "\n",
        "# Defines functions\n",
        "f_x = 2*x*y + x**2*y + 3*y\n",
        "\n",
        "# Calculates the partial derivative in respect to x\n",
        "f_x = diff(f_x,x)\n",
        "\n",
        "print(\"Partial Derivative of f(x,y) in respect to x:\")\n",
        "print(f_x)"
      ],
      "metadata": {
        "colab": {
          "base_uri": "https://localhost:8080/"
        },
        "id": "I7KRxFQLJM63",
        "outputId": "d6483a18-5e00-4ec5-afd8-651c3cb361e9"
      },
      "execution_count": 35,
      "outputs": [
        {
          "output_type": "stream",
          "name": "stdout",
          "text": [
            "Partial Derivative of f(x,y) in respect to x:\n",
            "2*x*y + 2*y\n"
          ]
        }
      ]
    },
    {
      "cell_type": "markdown",
      "source": [
        "As you can see, we are correct!"
      ],
      "metadata": {
        "id": "8nPhICo2K1h4"
      }
    },
    {
      "cell_type": "markdown",
      "source": [
        "**Jacobian Matrix**: a matrix that has the partial derivatives of $f⃗=(f_1,...f_m)$ as its elements. The following is the Jacobian for $f$:\n",
        "\n",
        "$\\begin{pmatrix}\n",
        "\\frac{∂f_1(x_0)}{\\partial x_1} & \\cdots & \\frac{∂f_1(x_0)}{\\partial x_d} \\\\\n",
        "\\vdots & \\ddots & \\vdots \\\\\n",
        "\\frac{∂f_m(x_0)}{\\partial x_1} & \\cdots & \\frac{∂f_m(x_0)}{\\partial x_d}\n",
        "\\end{pmatrix}$\n",
        "\n",
        "If $f: D \\to ℝ$ is a real-valued function, the Jacobian can be condensed the following way:\n",
        "\n",
        "$J⃗_f(x_0)=\\nabla f(x_0)^T$,\n",
        "\n",
        "where\n",
        "\n",
        "$\\nabla f(x_0) = (\\frac{∂f(x_0)}{∂x_1},..., \\frac{∂f(x_0)}{∂x_d} )^T$ is the gradient of $f$ at $x_0$\n",
        "\n",
        ">Note: The gradient equals $\\nabla f = < \\frac{∂f}{∂x} î, \\frac{∂f}{∂y}ĵ >$. A third element can be added to the vector : $\\frac{∂f}{∂z}k̂$ if needed.\n",
        "\n",
        "The Jacobian of a composition can be derived using the chain rule:\n",
        "\n",
        "$J_{g∘f}(x_0)=J_g(f(x_0))J_f(x_0)$\n",
        "\n",
        "where we assume that $f$ is continuously differentiable at $x_0 $and $g$ is continouously differentiable at $f(x_0)$\n",
        "\n",
        "\n",
        "Lets find the Jacobian of the following:\n",
        "\n",
        "$f_1(x,y)= 2xy+x^2y+3y$\n",
        "\n",
        "and\n",
        "\n",
        "$f_2(x,y)= 6xy^2+xy+3x$"
      ],
      "metadata": {
        "id": "wYw8Q1hwJNih"
      }
    },
    {
      "cell_type": "code",
      "source": [
        "from sympy import *  # This includes the importation of Symbol, diff\n",
        "\n",
        "# Specifies which variables are symbols\n",
        "x, y = symbols('x y')\n",
        "\n",
        "# Defines functions\n",
        "f_1 = 2*x*y + x**2*y + 3*y\n",
        "f_2 = 6*x*y**2 + x*y + 3*x\n",
        "\n",
        "# Calculates partial derivative of f_1 in respect to x\n",
        "partial_f1x = diff(f_1,x)\n",
        "\n",
        "# Calculates partial derivative of f_2 in respect to x\n",
        "partial_f2x = diff(f_2,x)\n",
        "\n",
        "# Calculates partial derivative of f_1 in respect to y\n",
        "partial_f1y = diff(f_1,y)\n",
        "\n",
        "# Calculates partial derivative of f_2 in respect to y\n",
        "partial_f2y = diff(f_2,y)\n",
        "\n",
        "# Makes Jacobian matrix\n",
        "J= Matrix([[partial_f1x, partial_f1y], [partial_f2x, partial_f2y]])\n",
        "\n",
        "print(\"Jacobian Matrix:\")\n",
        "print(J)"
      ],
      "metadata": {
        "colab": {
          "base_uri": "https://localhost:8080/"
        },
        "id": "t131S0-dJP0x",
        "outputId": "6c53fff3-818b-4a0f-b4ad-b05f8c14f363"
      },
      "execution_count": 36,
      "outputs": [
        {
          "output_type": "stream",
          "name": "stdout",
          "text": [
            "Jacobian Matrix:\n",
            "Matrix([[2*x*y + 2*y, x**2 + 2*x + 3], [6*y**2 + y + 3, 12*x*y + x]])\n"
          ]
        }
      ]
    },
    {
      "cell_type": "markdown",
      "source": [
        "This Jacobian looks like this:\n",
        "\n",
        "$J_f(x,y) =\n",
        "\\begin{bmatrix}\n",
        "\\frac{\\partial f_1}{\\partial x} & \\frac{\\partial f_1}{\\partial y} \\\\\n",
        "\\frac{\\partial f_2}{\\partial x} & \\frac{\\partial f_2}{\\partial y} \\\\\n",
        "\\end{bmatrix} =\n",
        "\\begin{bmatrix}\n",
        "2xy+2y & x^2+2x+3 \\\\\n",
        "6y^2+y+3 & 12xy+x \\\\\n",
        "\\end{bmatrix}$"
      ],
      "metadata": {
        "id": "_GU_u3cdK5jP"
      }
    },
    {
      "cell_type": "markdown",
      "source": [
        "#### 3.2.2.3: Further Derivatives"
      ],
      "metadata": {
        "id": "b_DSUugCajIF"
      }
    },
    {
      "cell_type": "markdown",
      "source": [
        "The directional derivative of $f$ ($f:D \\to ℝ$, $D \\subseteq ℝ^d$, $x_0 \\in D$, and $v⃗ \\in ℝ^d$, and $v⃗$ is a unit vector such that $v⃗ \\in ℝ^d$)  in the direction $v⃗$ can be represented the following way:\n",
        "\n",
        "$\\frac{∂f(x_0)}{∂v⃗}=\\lim\\limits_{h \\to 0}\\frac{f(x_0+hv⃗)-f(x_0)}{h}$ (if the limit exists)\n",
        "\n",
        "Taking $v=e_i$ gets the $i$th partial derivative:\n",
        "\n",
        "$\\frac{∂f(x_0)}{∂e_i}=\\lim\\limits_{h \\to 0}\\frac{f(x_0+he_i)-f(x_0)}{h}=\\frac{∂f(x_0)}{∂x_i}$\n",
        "\n",
        ">Note: A general derivative can be expressed in terms of partial derivatives\n",
        "\n",
        "You can aslo find the directional derivative using the gradient (the following terms are the same as the ones mentioned above):\n",
        "\n",
        "$\\frac{∂f(x_0)}{∂v⃗}=J_f(x_0)v⃗=\\nabla f(x_0)^Tv⃗$\n",
        "\n",
        "You can also take higher-order partial derivatives!\n",
        "\n",
        "A **second partial derivatives** can be represented by:\n",
        "\n",
        "$\\frac{∂^2f(x_0)}{∂x_j∂x_i}=\\lim\\limits_{h \\ to 0}\\frac{∂f(x_0+he_j)/\\partial x_i-∂f(x_0)/∂x_i}{h}$\n",
        "\n",
        "where the terms have the same definition as the ones before\n",
        "\n",
        "**Hessian**: a Jacobian of the gradient $\\nabla f$. It is a matrix for the 2nd partial derivatives of a function. Can be represented like this:\n",
        "\n",
        "$H_f(x_0)=\n",
        "\\begin{pmatrix}\n",
        "\\frac{∂^2f(x_0)}{\\partial x^2_1} & \\cdots & \\frac{∂^2f(x_0)}{\\partial x_d∂x_1} \\\\\n",
        "\\vdots & \\ddots & \\vdots \\\\\n",
        "\\frac{∂^2f(x_0)}{\\partial x_1 \\partial\n",
        "x_d} & \\cdots & \\frac{∂^2f(x_0)}{\\partial x^2_d}\n",
        "\\end{pmatrix}$\n",
        "\n",
        ">Note: Hessian is symmetric when $f$ is continuously differentiable twice\n",
        "\n",
        "Lets make a Hessian matrix of the following function:\n",
        "\n",
        "$f(x)=2xy+x^2y+3y$"
      ],
      "metadata": {
        "id": "qwfK-IKbanOI"
      }
    },
    {
      "cell_type": "code",
      "source": [
        "from sympy import *  # This includes the importation of Symbol, diff\n",
        "\n",
        "# Specifies which variables are symbols\n",
        "x, y = symbols('x y')\n",
        "\n",
        "# Defines function\n",
        "f = 2*x*y + x**2*y + 3*y\n",
        "\n",
        "# Calculates partial derivative in respect to x\n",
        "partial_x = diff(f,x)\n",
        "\n",
        "# Calculates 2nd partial derivative in respect to x\n",
        "partial_xx = diff(partial_x,x)\n",
        "\n",
        "# Calculates partial derivative in respect to y\n",
        "partial_y = diff(f,y)\n",
        "\n",
        "# Calculates 2nd partial derivative in respect to y\n",
        "partial_yy = diff(partial_y,y)\n",
        "\n",
        "# Calculates partial derivative of partial_x in respects to y\n",
        "partial_xy = diff(partial_x,y)\n",
        "\n",
        "# Calculates partial derivative of partial_y in respects to x\n",
        "partial_yx = diff(partial_y,x)\n",
        "\n",
        "# Creates Hessian matrix\n",
        "H = Matrix([[partial_xx, partial_yx], [partial_xy, partial_yy]])\n",
        "\n",
        "print(\"Hessian Matrix:\")\n",
        "print(H)"
      ],
      "metadata": {
        "colab": {
          "base_uri": "https://localhost:8080/"
        },
        "id": "f4m2SjmVB_63",
        "outputId": "a916ed63-e3e9-4df2-9713-c8f34dec740d"
      },
      "execution_count": 37,
      "outputs": [
        {
          "output_type": "stream",
          "name": "stdout",
          "text": [
            "Hessian Matrix:\n",
            "Matrix([[2*y, 2*x + 2], [2*x + 2, 0]])\n"
          ]
        }
      ]
    },
    {
      "cell_type": "markdown",
      "source": [
        "Our Hessian matrix looks like this:\n",
        "\n",
        "$ H_f(x,y)=\n",
        "\\begin{bmatrix}\n",
        "f_{xx}(x,y) & f_{yx}(x,y) \\\\\n",
        "f_{xy}(x,y) & f_{yy}(x,y) \\\\\n",
        "\\end{bmatrix} =\n",
        "\\begin{bmatrix}\n",
        "2y & 2x+2 \\\\\n",
        "2x+2 & 0 \\\\\n",
        "\\end{bmatrix}$"
      ],
      "metadata": {
        "id": "dkJdwy3qHPxm"
      }
    },
    {
      "cell_type": "markdown",
      "source": [
        "\n",
        "#### 3.2.3: Taylor's Theorem"
      ],
      "metadata": {
        "id": "Opav9C-hiKZU"
      }
    },
    {
      "cell_type": "markdown",
      "source": [
        "**Taylor's Theorem** approximates a differential function near a given point by a polynomial. This can be demonstrated the following way:\n",
        "\n",
        "$f(b)=f(a)+(b-a)f'(a)+\\frac{1}{2}(b-a)^2f''(a)+...+\\frac{(b-a)^{m-1}}{(m-1)!}f^{m-1}(a)+R_m$, where:\n",
        "- $f:D \\to ℝ $\n",
        "- $D ⊆ ℝ$\n",
        "- We assume that $f$ is a continuous derivative (in interval $[a,b]$) $m$ times\n",
        "- $R_m = \\frac{(b-a)^m}{(m)!}f^m(a+θ(b-a))$ ($0 < θ < 1$)\n",
        "\n",
        "\\\\\n",
        "\n",
        "The **multivariate mean value** can be expressed the following way:\n",
        "\n",
        "$f(x)=f(x_0)_\\nabla f(x_0+𝞁p)^Tp$,\n",
        "\n",
        "where:\n",
        "- $f:D \\to ℝ $\n",
        "- $D ⊆ ℝ^d$\n",
        "- $x_0 \\in D$\n",
        "- $𝛿>0$\n",
        "- $B_𝛿(x_0) ⊆ D$\n",
        "- We assume that $f$ is continuously differentialble on $B_𝛿(x_0)$\n",
        "- $x \\in B_𝛿(x_0)$\n",
        "- $𝞁 \\in (0,1)$\n",
        "- $p=x-x_0$\n",
        "\n",
        "For the same conditions/term definitions above (expect that we assume that $f$ is THREE TIMES continuously differentialble on $B_𝛿(x_0)$), a **multivariate Taylor** can be expressed the following way:\n",
        "\n",
        "$f(x)=f(x_0)+\\nabla f(x_0)^Tp+\\frac{1}{2}p^TH_f(x_0)p+𝑂(||p||^3)$\n",
        "\n",
        "If $f$ is continuously differentiable TWICE instead, our multivariate Taylor is:\n",
        "\n",
        "$f(x)=f(x_0)+\\nabla f(x_0)^Tp+\\frac{1}{2}p^TH_f(x_0+𝞁p)p$\n",
        "\n",
        "To use Taylor's Theorem:\n",
        "\n",
        "1) Find gradient of your function\n",
        "\n",
        "2) Construct your Hessian\n",
        "\n",
        "3) Plug in your values into Taylor's Theorem"
      ],
      "metadata": {
        "id": "0pE8w-FCiRUA"
      }
    },
    {
      "cell_type": "markdown",
      "source": [
        "\\\\\n",
        "\n",
        "---\n",
        "\n",
        "\\\\\n",
        "## Section 3.3: Unconstrained Optimization"
      ],
      "metadata": {
        "id": "6s9sULtXpsfX"
      }
    },
    {
      "cell_type": "markdown",
      "source": [
        "### 3.3.1: Necessary and Sufficient Conditions of Local Minimizers"
      ],
      "metadata": {
        "id": "Ekh4F3IEqrjF"
      }
    },
    {
      "cell_type": "markdown",
      "source": [
        "We want to optimize the following:\n",
        "\n",
        "$ \\min\\limits_{x \\in ℝ^d}f(x)$,\n",
        "\n",
        "where $f: ℝ^d \\to ℝ$\n",
        "\n",
        "to find the global minimizer, which is the absolute minimum of $f$.\n",
        "\n",
        "A local minimizer is a point where our slope changes from negative, to zero, to positive. The difference between the global and local minimizer is that there is only one absolute minimum (the lowest point) but there can be many local minimums.\n",
        "\n",
        "A **descent direction** is a vector that points to a local minimum, making it ideal for optimization.\n",
        "\n",
        ">Note: A negative gradient is also a descent direction since it always points\n",
        "in the direction of greatest decrease\n",
        "\n",
        "By the **First-Order Necessary Condition**, if $x_0$ is a local minimizer, $\\nabla f(x_0)=0$ (assuming $f$ is continuously differentiable on $ℝ^d$).\n",
        "\n",
        "Assuming the same as we did above, by the **Second-Order Necessary Condition**, if $x_0$ is a local minimizer, the Hessian of function $f$:\n",
        "\n",
        "$H_f(x_0)$\n",
        "\n",
        "is a symmetric $d \\times d$ positive semi-definite matrix. This means that the matrix has non-negative eigenvalues. We know this is the case if $x⃗^THx⃗ ≥ 0$ for any $x \\in ℝ^d$."
      ],
      "metadata": {
        "id": "SOuNsbuCq4w1"
      }
    },
    {
      "cell_type": "markdown",
      "source": [
        "#### 3.3.1.1: Sufficient Conditions for Local Minimizers"
      ],
      "metadata": {
        "id": "mssHJc6T30Iu"
      }
    },
    {
      "cell_type": "markdown",
      "source": [
        "Recall, we said that if we have a continuously differentiable function $f$ and calculate for $x_1$ so that $f'(x_1)=0$ and $f''(x_1) ≥ 0$, we have a local minimum at $x_1$. However, this isn't always the case. Lets take a look at the following function:\n",
        "\n",
        "$f(x)=x^3+5$"
      ],
      "metadata": {
        "id": "BUM2X84j44o4"
      }
    },
    {
      "cell_type": "code",
      "source": [
        "from sympy import Symbol, diff\n",
        "\n",
        "# Specifies which variables are symbols\n",
        "x = symbols('x')\n",
        "\n",
        "# Defines functions\n",
        "f = x**3 + 5\n",
        "\n",
        "# Calculates the derivative in respect to x\n",
        "f_x = diff(f,x)\n",
        "\n",
        "print(f_x)"
      ],
      "metadata": {
        "colab": {
          "base_uri": "https://localhost:8080/"
        },
        "id": "Xm0iX25magcU",
        "outputId": "72939fad-f727-44d9-c7d8-5654a56655d6"
      },
      "execution_count": 38,
      "outputs": [
        {
          "output_type": "stream",
          "name": "stdout",
          "text": [
            "3*x**2\n"
          ]
        }
      ]
    },
    {
      "cell_type": "markdown",
      "source": [
        "As we can see, $x=0$ is obviously the solution to $f'(x_1)=0$. So, now let's calculate $f''(x)$."
      ],
      "metadata": {
        "id": "AsPNTB97hKHS"
      }
    },
    {
      "cell_type": "code",
      "source": [
        "# Calculates the 2nd derivative of f\n",
        "f_xx = diff(f_x,x)\n",
        "print(f_xx)"
      ],
      "metadata": {
        "colab": {
          "base_uri": "https://localhost:8080/"
        },
        "id": "82S_n8AvmmXF",
        "outputId": "f0a268eb-a56c-45de-ecda-9aa4af5cce53"
      },
      "execution_count": 39,
      "outputs": [
        {
          "output_type": "stream",
          "name": "stdout",
          "text": [
            "6*x\n"
          ]
        }
      ]
    },
    {
      "cell_type": "markdown",
      "source": [
        "Here we can also see that $f(x_1) ≥0$. So, we should have a local minimum at $x_1=0$."
      ],
      "metadata": {
        "id": "G4YyLPPDqQiF"
      }
    },
    {
      "cell_type": "code",
      "source": [
        "import numpy as np\n",
        "import matplotlib.pyplot as plt\n",
        "\n",
        "x = np.linspace(-5,5)\n",
        "f = x**3 + 5\n",
        "\n",
        "plt.plot(x,f)\n",
        "plt.title('f(x)=x^3+5')\n",
        "plt.xlabel('x')\n",
        "plt.ylabel('f(x)')\n",
        "plt.scatter(0,5, color = 'red')\n",
        "plt.show()"
      ],
      "metadata": {
        "colab": {
          "base_uri": "https://localhost:8080/",
          "height": 472
        },
        "id": "Kvis7OWNqiek",
        "outputId": "695bb855-656d-48e5-a1b9-b735a00c3403"
      },
      "execution_count": 61,
      "outputs": [
        {
          "output_type": "display_data",
          "data": {
            "text/plain": [
              "<Figure size 640x480 with 1 Axes>"
            ],
            "image/png": "[encoded data removed]"
          },
          "metadata": {}
        }
      ]
    },
    {
      "cell_type": "markdown",
      "source": [
        "As you can see, we do not have a minimum at $x_1=0$. The red dot is the coordinate $(0,5)$.\n",
        "\n",
        "The **Second-Order Sufficient Condition** helps prevent this kind of situation. This condition states that assuming that $f$ is a twice continuously differentiable, if the gradient of $f(x_0)$ is zero, and the Hessian matrix of $f(x_0)$ is positive definite, then we have a local minimizer at $x_0$. In short, these conditions must be met:\n",
        "\n",
        "- $\\nabla f(x_0)=0$\n",
        "- $H_f(x_0)$ is positive definite"
      ],
      "metadata": {
        "id": "udRIT2riu-Pl"
      }
    },
    {
      "cell_type": "markdown",
      "source": [
        "### 3.3.2: Convexity and Global Minimizers"
      ],
      "metadata": {
        "id": "7MLP7t5Ow4cz"
      }
    },
    {
      "cell_type": "markdown",
      "source": [
        "**Convex**: a real-valued function where a line segment between any two distict points on the graph stays above the function. Convexes are useful for optimization problems since they only have one minimum."
      ],
      "metadata": {
        "id": "qd8euW5rxJv9"
      }
    },
    {
      "cell_type": "markdown",
      "source": [
        "#### 3.3.2.1: Convex Sets and Function"
      ],
      "metadata": {
        "id": "6T2OBE6R0xRN"
      }
    },
    {
      "cell_type": "markdown",
      "source": [
        "Convex sets have the following property:\n",
        "\n",
        "$(1-\\alpha)x+\\alpha y \\in D$,\n",
        "\n",
        "where:\n",
        "- $\\forall x,y \\in D: D ⊆ ℝ^d$\n",
        "- All $\\alpha \\in [0,1]$\n",
        "\n",
        "**Convex Functions** follow can be expressed the followimg way:\n",
        "\n",
        "$f((1-\\alpha)x+\\alpha y) ≤ (1-\\alpha)f(x)+\\alpha f(y)$\n",
        "\n",
        "where all terms have the same definitions specified above.\n",
        "\n",
        ">Note: Affine functions are convex. Affine functions are those that have a linear function plus a translation. Unlike linear functions, affine functions do not have a fixed origin. For example, a linear function is $f(x)=mx$ and an affine function is $f(x)=mx+b$.\n",
        "\n",
        "According to the **First-Order Convexity Condition**, a continuously differentiable function $f$ is convex iff\n",
        "\n",
        "$f(y)≥f(x)+\\nabla f(x)^T(y-x)$, $\\forall x,y \\in ℝ^d$\n",
        "\n",
        "Convexity can also be shown with the **second-order convexity condition**, which states that if function $f$ is twice continuously differentiable, it is convex iff the Hessian matrix of $f(x_0)$ is positive definite."
      ],
      "metadata": {
        "id": "RWKFBHqgBiz8"
      }
    },
    {
      "cell_type": "markdown",
      "source": [
        "#### 3.3.2.2: Global Minimizer of Convex Functions"
      ],
      "metadata": {
        "id": "-p5ceVlDIXEC"
      }
    },
    {
      "cell_type": "markdown",
      "source": [
        "Since convex functions only have one minimum, meaning the local minimum and the global minimum are the same, it is a sufficient (and necessary) condition for minimizers to satisfy the following:\n",
        "\n",
        "$\\nabla f(x_0)=0$"
      ],
      "metadata": {
        "id": "_4_mPSRBIl4d"
      }
    },
    {
      "cell_type": "markdown",
      "source": [
        "### 3.3: Gradient Descent"
      ],
      "metadata": {
        "id": "UKBH8WE8LW1e"
      }
    },
    {
      "cell_type": "markdown",
      "source": [
        "As we have mentioned before, we use gradient descent to find local minima of minimization problems with the following form:\n",
        "\n",
        "$\\min\\limits_{x \\in ℝ^d}f(x)$\n",
        "\n",
        "It is most efficient to find the x's such that $\\nabla f(x)=0$ and then see which one of those give you the smallest output."
      ],
      "metadata": {
        "id": "zZ66pUalLaTP"
      }
    },
    {
      "cell_type": "markdown",
      "source": [
        "#### 3.3.3.1: Steepest Descent"
      ],
      "metadata": {
        "id": "nxRnatn5OKBp"
      }
    },
    {
      "cell_type": "markdown",
      "source": [
        "By using the gradient, specifically when it is $-\\nabla f$, the steepest descent approach will lead us to find the minimum.\n",
        "\n",
        "The **steepest descent** has the following property:\n",
        "\n",
        "$\\frac{\\partial f(x_0)}{\\partial v ⃗} ≥ \\frac{\\partial f(x_0)}{\\partial v ⃗^*}$,\n",
        "\n",
        "where\n",
        "- $v ⃗$ is a unit vector\n",
        "- $v^* = -\\frac{\\nabla f(x_0)}{||\\nabla f(x_0)||}$\n",
        "\n",
        "This method requires multiple iterations, each steepest descent bringing you closer and closer to the minimum by following $-\\nabla f$. Since the iterations bring you closer in a step size of $\\alpha_k > 0$, reaching the minimum is not guaranteed."
      ],
      "metadata": {
        "id": "TgI7LPziONIQ"
      }
    },
    {
      "cell_type": "markdown",
      "source": [
        "\\\\\n",
        "$♡$ **The End** $♡$"
      ],
      "metadata": {
        "id": "zpBC02yPRlun"
      }
    },
    {
      "cell_type": "code",
      "source": [],
      "metadata": {
        "id": "JVnfgOeZRpHi"
      },
      "execution_count": null,
      "outputs": []
    }
  ]
}